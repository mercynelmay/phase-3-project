{
 "cells": [
  {
   "cell_type": "markdown",
   "id": "94650742",
   "metadata": {},
   "source": [
    "#  Customer Churn Prediction\n",
    "\n",
    "##  Project Overview\n",
    "\n",
    "This Jupyter Notebook outlines the end-to-end workflow of a customer churn prediction project in the telecom sector. The objective is to analyze customer behavior, identify churn patterns, and build a predictive model capable of detecting customers likely to leave. This enables telecom companies like SyriaTel to take proactive steps toward improving customer retention.\n",
    "\n",
    "### Stakeholders\n",
    "\n",
    " For this project the key stakeholders are the Board of Directors and senior management of Syriatel Telecommunications Company.\n",
    "These stakeholders are particularly interested in determining whether it is possible to predict, in advance, which customers are dissatisfied with the services and are therefore likely to churn that is, stop using Syriatel’s services in the near future.\n",
    "If such customers can be accurately identified, the company will be able to proactively implement customer retention strategies, minimizing churn and reducing the associated loss in revenue.\n",
    "\n",
    "\n",
    "####  Business  Understanding and Analysis\n",
    "\n",
    "##### 1.  Business Understanding\n",
    "\n",
    "In the highly competitive telecom industry, retaining existing customers is significantly more cost effective than acquiring new ones. SyriaTel aims to reduce customer attrition by analyzing both business and customer behavior data. A thorough understanding of the domain helps identify the key drivers of churn and informs the development of a predictive model to support data-driven retention strategies.\n",
    "\n",
    "##### Data Source\n",
    "The data for the project was obtained from the Kaggle website: https://www.kaggle.com/datasets/becksddf/churn-in-telecoms-dataset.\n",
    "\n",
    "#####   Problem Statement\n",
    "SyriaTel is experiencing increased customer churn, which impacts revenue and raises customer acquisition costs. To address this, the company seeks to leverage data analytics to uncover the root causes of churn. The goal is to build predictive models that not only identify customers at risk of leaving but also explain the key factors influencing those decisions. This insight allows SyriaTel to take proactive action, enhance customer satisfaction, and reduce attrition.\n",
    "\n",
    "#####  Project Objectives\n",
    "\n",
    "1. **Understand Customer Churn** - Analyze historical data to explore patterns and trends that lead to customer churn.\n",
    "\n",
    "2. **Identify Key Drivers** - Detect the most significant factors influencing customer churn, such as service usage, billing issues, customer support interactions, or demographics.\n",
    "\n",
    "3. **Preprocess and Prepare Data** - Clean, transform, and engineer features from raw data to create a high-quality dataset suitable for modeling.\n",
    "\n",
    "4. **Develop Predictive Models** - Build and evaluate machine learning models capable of accurately predicting whether a customer is likely to churn.\n",
    "\n",
    "5. **Interpret Model Results** - Use tools like SHAP values or feature importance plots to explain predictions and support business decision-making.\n",
    "\n",
    "6. **Support Retention Strategies** - Deliver insights and tools that allow SyriaTel to implement proactive, data-driven interventions aimed at improving customer retention.\n",
    "\n",
    "\n",
    "#### 2. Data Acquisition And Preparation\n",
    "\n",
    "This phase involves collecting relevant customer data, understanding its structure, and preparing it for analysis.Here we will explore the data to get a better understanding of its state, then decide on the steps we need to take to clean it. \n",
    "we will perform the following :\n",
    "* **Data collection:** Gather relevant customer data from various sources, ensuring data privacy regulations are met.\n",
    "* **Data understanding:** Explore the data structure, get the shape of the data ,get data info , identify data types, and examine data dictionaries for accurate interpretation.\n",
    "* **Data cleaning:** Address missing values, outliers, inconsistencies, and other data quality issues relevant to churn prediction.\n"
   ]
  },
  {
   "cell_type": "markdown",
   "id": "c14893b9",
   "metadata": {},
   "source": [
    "#### step 1. Import Libraries and previewing the data \n"
   ]
  },
  {
   "cell_type": "code",
   "execution_count": 63,
   "id": "cd10e078",
   "metadata": {},
   "outputs": [],
   "source": [
    "#importing necessary libraries\n",
    "import numpy as np # linear algebra\n",
    "import pandas as pd # data processing, CSV file I/O (e.g. pd.read_csv)\n",
    "import matplotlib.pyplot as plt # for data visualization\n",
    "import seaborn as sns # for data visualization\n",
    "from sklearn.feature_selection import SelectKBest\n",
    "from sklearn.feature_selection import chi2\n",
    "from sklearn.feature_selection import f_classif\n",
    "from sklearn.preprocessing import OneHotEncoder, OrdinalEncoder, LabelEncoder, StandardScaler\n",
    "from sklearn.model_selection import train_test_split\n",
    "from sklearn.linear_model import LogisticRegression\n",
    "from sklearn.metrics import accuracy_score, confusion_matrix, classification_report\n",
    "from sklearn.ensemble import RandomForestClassifier\n",
    "from sklearn.ensemble import GradientBoostingClassifier\n",
    "from sklearn import metrics\n",
    "from xgboost import XGBClassifier\n",
    "\n",
    "import warnings\n",
    "\n",
    "# Filter out all warnings\n",
    "warnings.filterwarnings(\"ignore\")"
   ]
  },
  {
   "cell_type": "markdown",
   "id": "f3733aeb",
   "metadata": {},
   "source": [
    "####  Read Data sets"
   ]
  },
  {
   "cell_type": "code",
   "execution_count": 64,
   "id": "f73d28f7",
   "metadata": {},
   "outputs": [
    {
     "data": {
      "text/plain": [
       "(3333, 21)"
      ]
     },
     "execution_count": 64,
     "metadata": {},
     "output_type": "execute_result"
    }
   ],
   "source": [
    "# Load the dataset\n",
    "df = pd.read_csv('bigml_59c28831336c6604c800002a.csv')\n",
    "df.shape # Display the number of rows and columns in the dataset"
   ]
  },
  {
   "cell_type": "code",
   "execution_count": 65,
   "id": "92c1bb3d",
   "metadata": {},
   "outputs": [
    {
     "data": {
      "text/html": [
       "<div>\n",
       "<style scoped>\n",
       "    .dataframe tbody tr th:only-of-type {\n",
       "        vertical-align: middle;\n",
       "    }\n",
       "\n",
       "    .dataframe tbody tr th {\n",
       "        vertical-align: top;\n",
       "    }\n",
       "\n",
       "    .dataframe thead th {\n",
       "        text-align: right;\n",
       "    }\n",
       "</style>\n",
       "<table border=\"1\" class=\"dataframe\">\n",
       "  <thead>\n",
       "    <tr style=\"text-align: right;\">\n",
       "      <th></th>\n",
       "      <th>state</th>\n",
       "      <th>account length</th>\n",
       "      <th>area code</th>\n",
       "      <th>phone number</th>\n",
       "      <th>international plan</th>\n",
       "      <th>voice mail plan</th>\n",
       "      <th>number vmail messages</th>\n",
       "      <th>total day minutes</th>\n",
       "      <th>total day calls</th>\n",
       "      <th>total day charge</th>\n",
       "      <th>...</th>\n",
       "      <th>total eve calls</th>\n",
       "      <th>total eve charge</th>\n",
       "      <th>total night minutes</th>\n",
       "      <th>total night calls</th>\n",
       "      <th>total night charge</th>\n",
       "      <th>total intl minutes</th>\n",
       "      <th>total intl calls</th>\n",
       "      <th>total intl charge</th>\n",
       "      <th>customer service calls</th>\n",
       "      <th>churn</th>\n",
       "    </tr>\n",
       "  </thead>\n",
       "  <tbody>\n",
       "    <tr>\n",
       "      <th>0</th>\n",
       "      <td>KS</td>\n",
       "      <td>128</td>\n",
       "      <td>415</td>\n",
       "      <td>382-4657</td>\n",
       "      <td>no</td>\n",
       "      <td>yes</td>\n",
       "      <td>25</td>\n",
       "      <td>265.1</td>\n",
       "      <td>110</td>\n",
       "      <td>45.07</td>\n",
       "      <td>...</td>\n",
       "      <td>99</td>\n",
       "      <td>16.78</td>\n",
       "      <td>244.7</td>\n",
       "      <td>91</td>\n",
       "      <td>11.01</td>\n",
       "      <td>10.0</td>\n",
       "      <td>3</td>\n",
       "      <td>2.70</td>\n",
       "      <td>1</td>\n",
       "      <td>False</td>\n",
       "    </tr>\n",
       "    <tr>\n",
       "      <th>1</th>\n",
       "      <td>OH</td>\n",
       "      <td>107</td>\n",
       "      <td>415</td>\n",
       "      <td>371-7191</td>\n",
       "      <td>no</td>\n",
       "      <td>yes</td>\n",
       "      <td>26</td>\n",
       "      <td>161.6</td>\n",
       "      <td>123</td>\n",
       "      <td>27.47</td>\n",
       "      <td>...</td>\n",
       "      <td>103</td>\n",
       "      <td>16.62</td>\n",
       "      <td>254.4</td>\n",
       "      <td>103</td>\n",
       "      <td>11.45</td>\n",
       "      <td>13.7</td>\n",
       "      <td>3</td>\n",
       "      <td>3.70</td>\n",
       "      <td>1</td>\n",
       "      <td>False</td>\n",
       "    </tr>\n",
       "    <tr>\n",
       "      <th>2</th>\n",
       "      <td>NJ</td>\n",
       "      <td>137</td>\n",
       "      <td>415</td>\n",
       "      <td>358-1921</td>\n",
       "      <td>no</td>\n",
       "      <td>no</td>\n",
       "      <td>0</td>\n",
       "      <td>243.4</td>\n",
       "      <td>114</td>\n",
       "      <td>41.38</td>\n",
       "      <td>...</td>\n",
       "      <td>110</td>\n",
       "      <td>10.30</td>\n",
       "      <td>162.6</td>\n",
       "      <td>104</td>\n",
       "      <td>7.32</td>\n",
       "      <td>12.2</td>\n",
       "      <td>5</td>\n",
       "      <td>3.29</td>\n",
       "      <td>0</td>\n",
       "      <td>False</td>\n",
       "    </tr>\n",
       "    <tr>\n",
       "      <th>3</th>\n",
       "      <td>OH</td>\n",
       "      <td>84</td>\n",
       "      <td>408</td>\n",
       "      <td>375-9999</td>\n",
       "      <td>yes</td>\n",
       "      <td>no</td>\n",
       "      <td>0</td>\n",
       "      <td>299.4</td>\n",
       "      <td>71</td>\n",
       "      <td>50.90</td>\n",
       "      <td>...</td>\n",
       "      <td>88</td>\n",
       "      <td>5.26</td>\n",
       "      <td>196.9</td>\n",
       "      <td>89</td>\n",
       "      <td>8.86</td>\n",
       "      <td>6.6</td>\n",
       "      <td>7</td>\n",
       "      <td>1.78</td>\n",
       "      <td>2</td>\n",
       "      <td>False</td>\n",
       "    </tr>\n",
       "    <tr>\n",
       "      <th>4</th>\n",
       "      <td>OK</td>\n",
       "      <td>75</td>\n",
       "      <td>415</td>\n",
       "      <td>330-6626</td>\n",
       "      <td>yes</td>\n",
       "      <td>no</td>\n",
       "      <td>0</td>\n",
       "      <td>166.7</td>\n",
       "      <td>113</td>\n",
       "      <td>28.34</td>\n",
       "      <td>...</td>\n",
       "      <td>122</td>\n",
       "      <td>12.61</td>\n",
       "      <td>186.9</td>\n",
       "      <td>121</td>\n",
       "      <td>8.41</td>\n",
       "      <td>10.1</td>\n",
       "      <td>3</td>\n",
       "      <td>2.73</td>\n",
       "      <td>3</td>\n",
       "      <td>False</td>\n",
       "    </tr>\n",
       "  </tbody>\n",
       "</table>\n",
       "<p>5 rows × 21 columns</p>\n",
       "</div>"
      ],
      "text/plain": [
       "  state  account length  area code phone number international plan  \\\n",
       "0    KS             128        415     382-4657                 no   \n",
       "1    OH             107        415     371-7191                 no   \n",
       "2    NJ             137        415     358-1921                 no   \n",
       "3    OH              84        408     375-9999                yes   \n",
       "4    OK              75        415     330-6626                yes   \n",
       "\n",
       "  voice mail plan  number vmail messages  total day minutes  total day calls  \\\n",
       "0             yes                     25              265.1              110   \n",
       "1             yes                     26              161.6              123   \n",
       "2              no                      0              243.4              114   \n",
       "3              no                      0              299.4               71   \n",
       "4              no                      0              166.7              113   \n",
       "\n",
       "   total day charge  ...  total eve calls  total eve charge  \\\n",
       "0             45.07  ...               99             16.78   \n",
       "1             27.47  ...              103             16.62   \n",
       "2             41.38  ...              110             10.30   \n",
       "3             50.90  ...               88              5.26   \n",
       "4             28.34  ...              122             12.61   \n",
       "\n",
       "   total night minutes  total night calls  total night charge  \\\n",
       "0                244.7                 91               11.01   \n",
       "1                254.4                103               11.45   \n",
       "2                162.6                104                7.32   \n",
       "3                196.9                 89                8.86   \n",
       "4                186.9                121                8.41   \n",
       "\n",
       "   total intl minutes  total intl calls  total intl charge  \\\n",
       "0                10.0                 3               2.70   \n",
       "1                13.7                 3               3.70   \n",
       "2                12.2                 5               3.29   \n",
       "3                 6.6                 7               1.78   \n",
       "4                10.1                 3               2.73   \n",
       "\n",
       "   customer service calls  churn  \n",
       "0                       1  False  \n",
       "1                       1  False  \n",
       "2                       0  False  \n",
       "3                       2  False  \n",
       "4                       3  False  \n",
       "\n",
       "[5 rows x 21 columns]"
      ]
     },
     "execution_count": 65,
     "metadata": {},
     "output_type": "execute_result"
    }
   ],
   "source": [
    "df.head() # Display the first few rows of the dataset"
   ]
  },
  {
   "cell_type": "markdown",
   "id": "82e1f284",
   "metadata": {},
   "source": [
    "##### Summary on Data understanding \n",
    "\n",
    "This dataset consists of a single csv file: bigml.csv\n",
    "The  dataset contains information on 3,333 customers of the telecommunications company \"SyriaTel.\" It features 20 attributes, including customer demographics, call usage patterns during different times of the day, and subscription details such as voice mail and international plans. The account length attribute indicates how long a customer has been with SyriaTel, offering a valuable measure of their lifetime value. This dataset was also sourced from Kaggle\n",
    "Based on the first few rows of the dataset, we can observe the following :\n",
    "- \"Voice mail plan\" and \"number vmail messages\" likely have high correlation, as having a plan implies using voicemail.\n",
    "- \"Total day charges\" and corresponding minute categories (day, eve, night, international) likely correlate due to per-minute charges.\n",
    "- \"Phone number\", \"state\", and \"area code\" are likely identifiers and may not hold significant predictive value.\n"
   ]
  },
  {
   "cell_type": "code",
   "execution_count": 66,
   "id": "80fe1975",
   "metadata": {},
   "outputs": [
    {
     "name": "stdout",
     "output_type": "stream",
     "text": [
      "<class 'pandas.core.frame.DataFrame'>\n",
      "RangeIndex: 3333 entries, 0 to 3332\n",
      "Data columns (total 21 columns):\n",
      " #   Column                  Non-Null Count  Dtype  \n",
      "---  ------                  --------------  -----  \n",
      " 0   state                   3333 non-null   object \n",
      " 1   account length          3333 non-null   int64  \n",
      " 2   area code               3333 non-null   int64  \n",
      " 3   phone number            3333 non-null   object \n",
      " 4   international plan      3333 non-null   object \n",
      " 5   voice mail plan         3333 non-null   object \n",
      " 6   number vmail messages   3333 non-null   int64  \n",
      " 7   total day minutes       3333 non-null   float64\n",
      " 8   total day calls         3333 non-null   int64  \n",
      " 9   total day charge        3333 non-null   float64\n",
      " 10  total eve minutes       3333 non-null   float64\n",
      " 11  total eve calls         3333 non-null   int64  \n",
      " 12  total eve charge        3333 non-null   float64\n",
      " 13  total night minutes     3333 non-null   float64\n",
      " 14  total night calls       3333 non-null   int64  \n",
      " 15  total night charge      3333 non-null   float64\n",
      " 16  total intl minutes      3333 non-null   float64\n",
      " 17  total intl calls        3333 non-null   int64  \n",
      " 18  total intl charge       3333 non-null   float64\n",
      " 19  customer service calls  3333 non-null   int64  \n",
      " 20  churn                   3333 non-null   bool   \n",
      "dtypes: bool(1), float64(8), int64(8), object(4)\n",
      "memory usage: 524.2+ KB\n"
     ]
    }
   ],
   "source": [
    "# checking the data information\n",
    "df.info() # Display the data types and non-null counts of each column"
   ]
  },
  {
   "cell_type": "code",
   "execution_count": 67,
   "id": "a58072e8",
   "metadata": {},
   "outputs": [
    {
     "name": "stdout",
     "output_type": "stream",
     "text": [
      "Column: state\n",
      "['KS' 'OH' 'NJ' 'OK' 'AL' 'MA' 'MO' 'LA' 'WV' 'IN' 'RI' 'IA' 'MT' 'NY'\n",
      " 'ID' 'VT' 'VA' 'TX' 'FL' 'CO' 'AZ' 'SC' 'NE' 'WY' 'HI' 'IL' 'NH' 'GA'\n",
      " 'AK' 'MD' 'AR' 'WI' 'OR' 'MI' 'DE' 'UT' 'CA' 'MN' 'SD' 'NC' 'WA' 'NM'\n",
      " 'NV' 'DC' 'KY' 'ME' 'MS' 'TN' 'PA' 'CT' 'ND']\n",
      "\n",
      "\n",
      "Column: phone number\n",
      "['382-4657' '371-7191' '358-1921' ... '328-8230' '364-6381' '400-4344']\n",
      "\n",
      "\n",
      "Column: international plan\n",
      "['no' 'yes']\n",
      "\n",
      "\n",
      "Column: voice mail plan\n",
      "['yes' 'no']\n",
      "\n",
      "\n"
     ]
    }
   ],
   "source": [
    "# checking colums with object data type , then print the unique values in each column\n",
    "for column in df.select_dtypes(include=['object']).columns:\n",
    "    print(f\"Column: {column}\")\n",
    "    print(df[column].unique())\n",
    "    print(\"\\n\")"
   ]
  },
  {
   "cell_type": "code",
   "execution_count": 68,
   "id": "a21cc814",
   "metadata": {},
   "outputs": [
    {
     "data": {
      "text/html": [
       "<div>\n",
       "<style scoped>\n",
       "    .dataframe tbody tr th:only-of-type {\n",
       "        vertical-align: middle;\n",
       "    }\n",
       "\n",
       "    .dataframe tbody tr th {\n",
       "        vertical-align: top;\n",
       "    }\n",
       "\n",
       "    .dataframe thead th {\n",
       "        text-align: right;\n",
       "    }\n",
       "</style>\n",
       "<table border=\"1\" class=\"dataframe\">\n",
       "  <thead>\n",
       "    <tr style=\"text-align: right;\">\n",
       "      <th></th>\n",
       "      <th>state</th>\n",
       "      <th>account length</th>\n",
       "      <th>area code</th>\n",
       "      <th>phone number</th>\n",
       "      <th>international plan</th>\n",
       "      <th>voice mail plan</th>\n",
       "      <th>number vmail messages</th>\n",
       "      <th>total day minutes</th>\n",
       "      <th>total day calls</th>\n",
       "      <th>total day charge</th>\n",
       "      <th>...</th>\n",
       "      <th>total eve calls</th>\n",
       "      <th>total eve charge</th>\n",
       "      <th>total night minutes</th>\n",
       "      <th>total night calls</th>\n",
       "      <th>total night charge</th>\n",
       "      <th>total intl minutes</th>\n",
       "      <th>total intl calls</th>\n",
       "      <th>total intl charge</th>\n",
       "      <th>customer service calls</th>\n",
       "      <th>churn</th>\n",
       "    </tr>\n",
       "  </thead>\n",
       "  <tbody>\n",
       "    <tr>\n",
       "      <th>count</th>\n",
       "      <td>3333</td>\n",
       "      <td>3333.00</td>\n",
       "      <td>3333.00</td>\n",
       "      <td>3333</td>\n",
       "      <td>3333</td>\n",
       "      <td>3333</td>\n",
       "      <td>3333.00</td>\n",
       "      <td>3333.00</td>\n",
       "      <td>3333.00</td>\n",
       "      <td>3333.00</td>\n",
       "      <td>...</td>\n",
       "      <td>3333.00</td>\n",
       "      <td>3333.00</td>\n",
       "      <td>3333.00</td>\n",
       "      <td>3333.00</td>\n",
       "      <td>3333.00</td>\n",
       "      <td>3333.00</td>\n",
       "      <td>3333.00</td>\n",
       "      <td>3333.00</td>\n",
       "      <td>3333.00</td>\n",
       "      <td>3333</td>\n",
       "    </tr>\n",
       "    <tr>\n",
       "      <th>unique</th>\n",
       "      <td>51</td>\n",
       "      <td>NaN</td>\n",
       "      <td>NaN</td>\n",
       "      <td>3333</td>\n",
       "      <td>2</td>\n",
       "      <td>2</td>\n",
       "      <td>NaN</td>\n",
       "      <td>NaN</td>\n",
       "      <td>NaN</td>\n",
       "      <td>NaN</td>\n",
       "      <td>...</td>\n",
       "      <td>NaN</td>\n",
       "      <td>NaN</td>\n",
       "      <td>NaN</td>\n",
       "      <td>NaN</td>\n",
       "      <td>NaN</td>\n",
       "      <td>NaN</td>\n",
       "      <td>NaN</td>\n",
       "      <td>NaN</td>\n",
       "      <td>NaN</td>\n",
       "      <td>2</td>\n",
       "    </tr>\n",
       "    <tr>\n",
       "      <th>top</th>\n",
       "      <td>WV</td>\n",
       "      <td>NaN</td>\n",
       "      <td>NaN</td>\n",
       "      <td>377-7276</td>\n",
       "      <td>no</td>\n",
       "      <td>no</td>\n",
       "      <td>NaN</td>\n",
       "      <td>NaN</td>\n",
       "      <td>NaN</td>\n",
       "      <td>NaN</td>\n",
       "      <td>...</td>\n",
       "      <td>NaN</td>\n",
       "      <td>NaN</td>\n",
       "      <td>NaN</td>\n",
       "      <td>NaN</td>\n",
       "      <td>NaN</td>\n",
       "      <td>NaN</td>\n",
       "      <td>NaN</td>\n",
       "      <td>NaN</td>\n",
       "      <td>NaN</td>\n",
       "      <td>False</td>\n",
       "    </tr>\n",
       "    <tr>\n",
       "      <th>freq</th>\n",
       "      <td>106</td>\n",
       "      <td>NaN</td>\n",
       "      <td>NaN</td>\n",
       "      <td>1</td>\n",
       "      <td>3010</td>\n",
       "      <td>2411</td>\n",
       "      <td>NaN</td>\n",
       "      <td>NaN</td>\n",
       "      <td>NaN</td>\n",
       "      <td>NaN</td>\n",
       "      <td>...</td>\n",
       "      <td>NaN</td>\n",
       "      <td>NaN</td>\n",
       "      <td>NaN</td>\n",
       "      <td>NaN</td>\n",
       "      <td>NaN</td>\n",
       "      <td>NaN</td>\n",
       "      <td>NaN</td>\n",
       "      <td>NaN</td>\n",
       "      <td>NaN</td>\n",
       "      <td>2850</td>\n",
       "    </tr>\n",
       "    <tr>\n",
       "      <th>mean</th>\n",
       "      <td>NaN</td>\n",
       "      <td>101.06</td>\n",
       "      <td>437.18</td>\n",
       "      <td>NaN</td>\n",
       "      <td>NaN</td>\n",
       "      <td>NaN</td>\n",
       "      <td>8.10</td>\n",
       "      <td>179.78</td>\n",
       "      <td>100.44</td>\n",
       "      <td>30.56</td>\n",
       "      <td>...</td>\n",
       "      <td>100.11</td>\n",
       "      <td>17.08</td>\n",
       "      <td>200.87</td>\n",
       "      <td>100.11</td>\n",
       "      <td>9.04</td>\n",
       "      <td>10.24</td>\n",
       "      <td>4.48</td>\n",
       "      <td>2.76</td>\n",
       "      <td>1.56</td>\n",
       "      <td>NaN</td>\n",
       "    </tr>\n",
       "    <tr>\n",
       "      <th>std</th>\n",
       "      <td>NaN</td>\n",
       "      <td>39.82</td>\n",
       "      <td>42.37</td>\n",
       "      <td>NaN</td>\n",
       "      <td>NaN</td>\n",
       "      <td>NaN</td>\n",
       "      <td>13.69</td>\n",
       "      <td>54.47</td>\n",
       "      <td>20.07</td>\n",
       "      <td>9.26</td>\n",
       "      <td>...</td>\n",
       "      <td>19.92</td>\n",
       "      <td>4.31</td>\n",
       "      <td>50.57</td>\n",
       "      <td>19.57</td>\n",
       "      <td>2.28</td>\n",
       "      <td>2.79</td>\n",
       "      <td>2.46</td>\n",
       "      <td>0.75</td>\n",
       "      <td>1.32</td>\n",
       "      <td>NaN</td>\n",
       "    </tr>\n",
       "    <tr>\n",
       "      <th>min</th>\n",
       "      <td>NaN</td>\n",
       "      <td>1.00</td>\n",
       "      <td>408.00</td>\n",
       "      <td>NaN</td>\n",
       "      <td>NaN</td>\n",
       "      <td>NaN</td>\n",
       "      <td>0.00</td>\n",
       "      <td>0.00</td>\n",
       "      <td>0.00</td>\n",
       "      <td>0.00</td>\n",
       "      <td>...</td>\n",
       "      <td>0.00</td>\n",
       "      <td>0.00</td>\n",
       "      <td>23.20</td>\n",
       "      <td>33.00</td>\n",
       "      <td>1.04</td>\n",
       "      <td>0.00</td>\n",
       "      <td>0.00</td>\n",
       "      <td>0.00</td>\n",
       "      <td>0.00</td>\n",
       "      <td>NaN</td>\n",
       "    </tr>\n",
       "    <tr>\n",
       "      <th>25%</th>\n",
       "      <td>NaN</td>\n",
       "      <td>74.00</td>\n",
       "      <td>408.00</td>\n",
       "      <td>NaN</td>\n",
       "      <td>NaN</td>\n",
       "      <td>NaN</td>\n",
       "      <td>0.00</td>\n",
       "      <td>143.70</td>\n",
       "      <td>87.00</td>\n",
       "      <td>24.43</td>\n",
       "      <td>...</td>\n",
       "      <td>87.00</td>\n",
       "      <td>14.16</td>\n",
       "      <td>167.00</td>\n",
       "      <td>87.00</td>\n",
       "      <td>7.52</td>\n",
       "      <td>8.50</td>\n",
       "      <td>3.00</td>\n",
       "      <td>2.30</td>\n",
       "      <td>1.00</td>\n",
       "      <td>NaN</td>\n",
       "    </tr>\n",
       "    <tr>\n",
       "      <th>50%</th>\n",
       "      <td>NaN</td>\n",
       "      <td>101.00</td>\n",
       "      <td>415.00</td>\n",
       "      <td>NaN</td>\n",
       "      <td>NaN</td>\n",
       "      <td>NaN</td>\n",
       "      <td>0.00</td>\n",
       "      <td>179.40</td>\n",
       "      <td>101.00</td>\n",
       "      <td>30.50</td>\n",
       "      <td>...</td>\n",
       "      <td>100.00</td>\n",
       "      <td>17.12</td>\n",
       "      <td>201.20</td>\n",
       "      <td>100.00</td>\n",
       "      <td>9.05</td>\n",
       "      <td>10.30</td>\n",
       "      <td>4.00</td>\n",
       "      <td>2.78</td>\n",
       "      <td>1.00</td>\n",
       "      <td>NaN</td>\n",
       "    </tr>\n",
       "    <tr>\n",
       "      <th>75%</th>\n",
       "      <td>NaN</td>\n",
       "      <td>127.00</td>\n",
       "      <td>510.00</td>\n",
       "      <td>NaN</td>\n",
       "      <td>NaN</td>\n",
       "      <td>NaN</td>\n",
       "      <td>20.00</td>\n",
       "      <td>216.40</td>\n",
       "      <td>114.00</td>\n",
       "      <td>36.79</td>\n",
       "      <td>...</td>\n",
       "      <td>114.00</td>\n",
       "      <td>20.00</td>\n",
       "      <td>235.30</td>\n",
       "      <td>113.00</td>\n",
       "      <td>10.59</td>\n",
       "      <td>12.10</td>\n",
       "      <td>6.00</td>\n",
       "      <td>3.27</td>\n",
       "      <td>2.00</td>\n",
       "      <td>NaN</td>\n",
       "    </tr>\n",
       "    <tr>\n",
       "      <th>max</th>\n",
       "      <td>NaN</td>\n",
       "      <td>243.00</td>\n",
       "      <td>510.00</td>\n",
       "      <td>NaN</td>\n",
       "      <td>NaN</td>\n",
       "      <td>NaN</td>\n",
       "      <td>51.00</td>\n",
       "      <td>350.80</td>\n",
       "      <td>165.00</td>\n",
       "      <td>59.64</td>\n",
       "      <td>...</td>\n",
       "      <td>170.00</td>\n",
       "      <td>30.91</td>\n",
       "      <td>395.00</td>\n",
       "      <td>175.00</td>\n",
       "      <td>17.77</td>\n",
       "      <td>20.00</td>\n",
       "      <td>20.00</td>\n",
       "      <td>5.40</td>\n",
       "      <td>9.00</td>\n",
       "      <td>NaN</td>\n",
       "    </tr>\n",
       "  </tbody>\n",
       "</table>\n",
       "<p>11 rows × 21 columns</p>\n",
       "</div>"
      ],
      "text/plain": [
       "       state  account length  area code phone number international plan  \\\n",
       "count   3333         3333.00    3333.00         3333               3333   \n",
       "unique    51             NaN        NaN         3333                  2   \n",
       "top       WV             NaN        NaN     377-7276                 no   \n",
       "freq     106             NaN        NaN            1               3010   \n",
       "mean     NaN          101.06     437.18          NaN                NaN   \n",
       "std      NaN           39.82      42.37          NaN                NaN   \n",
       "min      NaN            1.00     408.00          NaN                NaN   \n",
       "25%      NaN           74.00     408.00          NaN                NaN   \n",
       "50%      NaN          101.00     415.00          NaN                NaN   \n",
       "75%      NaN          127.00     510.00          NaN                NaN   \n",
       "max      NaN          243.00     510.00          NaN                NaN   \n",
       "\n",
       "       voice mail plan  number vmail messages  total day minutes  \\\n",
       "count             3333                3333.00            3333.00   \n",
       "unique               2                    NaN                NaN   \n",
       "top                 no                    NaN                NaN   \n",
       "freq              2411                    NaN                NaN   \n",
       "mean               NaN                   8.10             179.78   \n",
       "std                NaN                  13.69              54.47   \n",
       "min                NaN                   0.00               0.00   \n",
       "25%                NaN                   0.00             143.70   \n",
       "50%                NaN                   0.00             179.40   \n",
       "75%                NaN                  20.00             216.40   \n",
       "max                NaN                  51.00             350.80   \n",
       "\n",
       "        total day calls  total day charge  ...  total eve calls  \\\n",
       "count           3333.00           3333.00  ...          3333.00   \n",
       "unique              NaN               NaN  ...              NaN   \n",
       "top                 NaN               NaN  ...              NaN   \n",
       "freq                NaN               NaN  ...              NaN   \n",
       "mean             100.44             30.56  ...           100.11   \n",
       "std               20.07              9.26  ...            19.92   \n",
       "min                0.00              0.00  ...             0.00   \n",
       "25%               87.00             24.43  ...            87.00   \n",
       "50%              101.00             30.50  ...           100.00   \n",
       "75%              114.00             36.79  ...           114.00   \n",
       "max              165.00             59.64  ...           170.00   \n",
       "\n",
       "        total eve charge  total night minutes  total night calls  \\\n",
       "count            3333.00              3333.00            3333.00   \n",
       "unique               NaN                  NaN                NaN   \n",
       "top                  NaN                  NaN                NaN   \n",
       "freq                 NaN                  NaN                NaN   \n",
       "mean               17.08               200.87             100.11   \n",
       "std                 4.31                50.57              19.57   \n",
       "min                 0.00                23.20              33.00   \n",
       "25%                14.16               167.00              87.00   \n",
       "50%                17.12               201.20             100.00   \n",
       "75%                20.00               235.30             113.00   \n",
       "max                30.91               395.00             175.00   \n",
       "\n",
       "        total night charge  total intl minutes  total intl calls  \\\n",
       "count              3333.00             3333.00           3333.00   \n",
       "unique                 NaN                 NaN               NaN   \n",
       "top                    NaN                 NaN               NaN   \n",
       "freq                   NaN                 NaN               NaN   \n",
       "mean                  9.04               10.24              4.48   \n",
       "std                   2.28                2.79              2.46   \n",
       "min                   1.04                0.00              0.00   \n",
       "25%                   7.52                8.50              3.00   \n",
       "50%                   9.05               10.30              4.00   \n",
       "75%                  10.59               12.10              6.00   \n",
       "max                  17.77               20.00             20.00   \n",
       "\n",
       "        total intl charge  customer service calls  churn  \n",
       "count             3333.00                 3333.00   3333  \n",
       "unique                NaN                     NaN      2  \n",
       "top                   NaN                     NaN  False  \n",
       "freq                  NaN                     NaN   2850  \n",
       "mean                 2.76                    1.56    NaN  \n",
       "std                  0.75                    1.32    NaN  \n",
       "min                  0.00                    0.00    NaN  \n",
       "25%                  2.30                    1.00    NaN  \n",
       "50%                  2.78                    1.00    NaN  \n",
       "75%                  3.27                    2.00    NaN  \n",
       "max                  5.40                    9.00    NaN  \n",
       "\n",
       "[11 rows x 21 columns]"
      ]
     },
     "execution_count": 68,
     "metadata": {},
     "output_type": "execute_result"
    }
   ],
   "source": [
    "# summary statistics for numerical columns\n",
    "df.describe(include='all').round(2) # Display summary statistics for all columns, including categorical ones\n"
   ]
  },
  {
   "cell_type": "markdown",
   "id": "164aa7a0",
   "metadata": {},
   "source": [
    "Based on the summary statistics, we can observe the following:\n",
    "- The average customer churn rate is approximately 14.5%.\n",
    "- The average total day minutes is 179.8 minutes, with a standard deviation of 54.46 minutes.\n",
    "- The average total day charge is $30.56, with a standard deviation of $9.26.\n",
    "- The average total night minutes is 200.9 minutes, with a standard deviation of 50.57 minutes.\n",
    "- The average total night charge is $9.04, with a standard deviation of $2.28.\n",
    "- The average total international minutes is 10.7 minutes, with a standard deviation of 2.79 minutes.\n",
    "- The average total international charge is $2.77, with a standard deviation of $0.75.\n",
    "- The average customer service calls is 1.56, with a standard deviation of 1.31."
   ]
  },
  {
   "cell_type": "markdown",
   "id": "417e5ee3",
   "metadata": {},
   "source": [
    "#### step 2.  Data cleaning \n",
    "\n",
    "In this section we will clean the dataset by dealing with:\n",
    "\n",
    "* Missing values\n",
    "* Duplicated values\n",
    "* Outliers\n",
    "* Inconsistencies in the dataset\n",
    "\n",
    "We create a class to handle the cleaning process. The class will be able to identify missing values, duplicates both generally and using a unique column.\n",
    " "
   ]
  },
  {
   "cell_type": "code",
   "execution_count": 69,
   "id": "d762fda9",
   "metadata": {},
   "outputs": [],
   "source": [
    "class DataReporter:\n",
    "    def __init__(self, df):\n",
    "        self.df = df\n",
    "\n",
    "    def summary(self, message=\"Data Summary\"):\n",
    "        print(f\"\\n==== {message} ====\\n\")\n",
    "        print(\" Rows:\", self.df.shape[0])\n",
    "        print(\"Number of features:\", self.df.shape[1])\n",
    "        print(\"\\n Features:\")\n",
    "        print(self.df.columns.tolist())\n",
    "        \n",
    "        print(\"\\n Missing values:\", self.df.isnull().sum().sum())\n",
    "        \n",
    "        print(\"\\n Unique values per column:\")\n",
    "        print(self.df.nunique())\n",
    "        \n",
    "        print(\"\\n Duplicate rows:\", self.df.duplicated().sum())\n",
    "        \n",
    "        print(\"\\n Skewness of numerical features:\")\n",
    "        print(self.df.select_dtypes(include=['int64', 'float64']).skew())\n",
    "        \n",
    "        print(\"\\n Number of categorical features:\", self.df.select_dtypes(include='object').shape[1])\n",
    "        print(\" Number of numerical features:\", self.df.select_dtypes(include=['int64', 'float64']).shape[1])\n"
   ]
  },
  {
   "cell_type": "code",
   "execution_count": 70,
   "id": "c8f23144",
   "metadata": {},
   "outputs": [
    {
     "name": "stdout",
     "output_type": "stream",
     "text": [
      "\n",
      "==== Before Cleaning ====\n",
      "\n",
      " Rows: 3333\n",
      "Number of features: 21\n",
      "\n",
      " Features:\n",
      "['state', 'account length', 'area code', 'phone number', 'international plan', 'voice mail plan', 'number vmail messages', 'total day minutes', 'total day calls', 'total day charge', 'total eve minutes', 'total eve calls', 'total eve charge', 'total night minutes', 'total night calls', 'total night charge', 'total intl minutes', 'total intl calls', 'total intl charge', 'customer service calls', 'churn']\n",
      "\n",
      " Missing values: 0\n",
      "\n",
      " Unique values per column:\n",
      "state                       51\n",
      "account length             212\n",
      "area code                    3\n",
      "phone number              3333\n",
      "international plan           2\n",
      "voice mail plan              2\n",
      "number vmail messages       46\n",
      "total day minutes         1667\n",
      "total day calls            119\n",
      "total day charge          1667\n",
      "total eve minutes         1611\n",
      "total eve calls            123\n",
      "total eve charge          1440\n",
      "total night minutes       1591\n",
      "total night calls          120\n",
      "total night charge         933\n",
      "total intl minutes         162\n",
      "total intl calls            21\n",
      "total intl charge          162\n",
      "customer service calls      10\n",
      "churn                        2\n",
      "dtype: int64\n",
      "\n",
      " Duplicate rows: 0\n",
      "\n",
      " Skewness of numerical features:\n",
      "account length            0.096606\n",
      "area code                 1.126823\n",
      "number vmail messages     1.264824\n",
      "total day minutes        -0.029077\n",
      "total day calls          -0.111787\n",
      "total day charge         -0.029083\n",
      "total eve minutes        -0.023877\n",
      "total eve calls          -0.055563\n",
      "total eve charge         -0.023858\n",
      "total night minutes       0.008921\n",
      "total night calls         0.032500\n",
      "total night charge        0.008886\n",
      "total intl minutes       -0.245136\n",
      "total intl calls          1.321478\n",
      "total intl charge        -0.245287\n",
      "customer service calls    1.091359\n",
      "dtype: float64\n",
      "\n",
      " Number of categorical features: 4\n",
      " Number of numerical features: 16\n"
     ]
    }
   ],
   "source": [
    "\n",
    "report = DataReporter(df)\n",
    "report.summary(\"Before Cleaning\")\n"
   ]
  },
  {
   "cell_type": "markdown",
   "id": "62850d83",
   "metadata": {},
   "source": [
    "From our  data set we have 3333 customers , we have 21 input features and one target churn . No Duplicated rows were found in the dataset , we also have no missing values in our dataset . Most features have low skweness this suggests that the distribution is fairly symmetrical. During correlation analysis, we will check how this feature correlates with the target variable customer churn , however the area code, number vmail messages and total intl calls features  have a high positive skewness this indicates that the distribution has a long right tail. During feature extraction, we will  consider applying a transformation like a square root or log transformation to reduce the skewness and make the distribution more symmetrical.\n",
    "The customer service calls feature has a skewness close to 1. This is relatively symmetrical, and we might not need to take any action to correct for skewness for this feature.\n",
    "\n"
   ]
  },
  {
   "cell_type": "markdown",
   "id": "ed01cdd5",
   "metadata": {},
   "source": [
    "### 2. Exploratory Data Analysis (EDA)\n",
    "<hr>"
   ]
  },
  {
   "cell_type": "markdown",
   "id": "2f7ee5d1",
   "metadata": {},
   "source": [
    "##### Desriptive Analysis "
   ]
  },
  {
   "cell_type": "markdown",
   "id": "5bec0b9e",
   "metadata": {},
   "source": [
    "#### 2.1 Churn Distribution "
   ]
  },
  {
   "cell_type": "code",
   "execution_count": 71,
   "id": "e93a6092",
   "metadata": {},
   "outputs": [
    {
     "data": {
      "image/png": "[encoded data removed]",
      "text/plain": [
       "<Figure size 432x288 with 1 Axes>"
      ]
     },
     "metadata": {},
     "output_type": "display_data"
    },
    {
     "name": "stdout",
     "output_type": "stream",
     "text": [
      "Churn Value Counts:\n",
      "False    0.855086\n",
      "True     0.144914\n",
      "Name: churn, dtype: float64\n"
     ]
    }
   ],
   "source": [
    "\n",
    "\n",
    "df['churn'].value_counts().plot(kind='pie', autopct='%1.1f%%', colors=['blue', 'red'], startangle=90)\n",
    "plt.title('Churn Distribution')\n",
    "plt.ylabel('')\n",
    "plt.axis('equal')\n",
    "plt.show()\n",
    "\n",
    "print(\"Churn Value Counts:\")\n",
    "print(df['churn'].value_counts(normalize=True))"
   ]
  },
  {
   "cell_type": "markdown",
   "id": "953e7eab",
   "metadata": {},
   "source": [
    "#### 2.2 Churn by International Plan\n"
   ]
  },
  {
   "cell_type": "code",
   "execution_count": 72,
   "id": "e5e8f8cd",
   "metadata": {},
   "outputs": [
    {
     "data": {
      "image/png": "[encoded data removed]",
      "text/plain": [
       "<Figure size 432x288 with 1 Axes>"
      ]
     },
     "metadata": {
      "needs_background": "light"
     },
     "output_type": "display_data"
    }
   ],
   "source": [
    "\n",
    "sns.countplot(x='international plan', hue='churn', data=df, palette='Set1')\n",
    "plt.title('Churn by International Plan')\n",
    "plt.show()"
   ]
  },
  {
   "cell_type": "markdown",
   "id": "4eabb53e",
   "metadata": {},
   "source": [
    "#### 2.3 Churn by Voice Mail Plan"
   ]
  },
  {
   "cell_type": "code",
   "execution_count": 73,
   "id": "6dd40d6b",
   "metadata": {},
   "outputs": [
    {
     "data": {
      "image/png": "[encoded data removed]",
      "text/plain": [
       "<Figure size 432x288 with 1 Axes>"
      ]
     },
     "metadata": {
      "needs_background": "light"
     },
     "output_type": "display_data"
    }
   ],
   "source": [
    "\n",
    "sns.countplot(x='voice mail plan', hue='churn', data=df, palette='Set2')\n",
    "plt.title('Churn by Voice Mail Plan')\n",
    "plt.show()"
   ]
  },
  {
   "cell_type": "markdown",
   "id": "7f53094c",
   "metadata": {},
   "source": [
    "#### 2.4 Churn by Customer Service Calls"
   ]
  },
  {
   "cell_type": "code",
   "execution_count": 74,
   "id": "6863fabb",
   "metadata": {},
   "outputs": [
    {
     "data": {
      "image/png": "[encoded data removed]",
      "text/plain": [
       "<Figure size 432x288 with 1 Axes>"
      ]
     },
     "metadata": {
      "needs_background": "light"
     },
     "output_type": "display_data"
    }
   ],
   "source": [
    "\n",
    "sns.countplot(x='customer service calls', hue='churn', data=df, palette='coolwarm')\n",
    "plt.title('Churn by Number of Customer Service Calls')\n",
    "plt.show()"
   ]
  },
  {
   "cell_type": "markdown",
   "id": "efb0a166",
   "metadata": {},
   "source": [
    "#### 2.5 Boxplots of Numerical Features by Churn"
   ]
  },
  {
   "cell_type": "code",
   "execution_count": 75,
   "id": "38681ffc",
   "metadata": {},
   "outputs": [
    {
     "data": {
      "image/png": "[encoded data removed]",
      "text/plain": [
       "<Figure size 432x288 with 1 Axes>"
      ]
     },
     "metadata": {
      "needs_background": "light"
     },
     "output_type": "display_data"
    },
    {
     "data": {
      "image/png": "[encoded data removed]",
      "text/plain": [
       "<Figure size 432x288 with 1 Axes>"
      ]
     },
     "metadata": {
      "needs_background": "light"
     },
     "output_type": "display_data"
    },
    {
     "data": {
      "image/png": "[encoded data removed]",
      "text/plain": [
       "<Figure size 432x288 with 1 Axes>"
      ]
     },
     "metadata": {
      "needs_background": "light"
     },
     "output_type": "display_data"
    },
    {
     "data": {
      "image/png": "[encoded data removed]",
      "text/plain": [
       "<Figure size 432x288 with 1 Axes>"
      ]
     },
     "metadata": {
      "needs_background": "light"
     },
     "output_type": "display_data"
    },
    {
     "data": {
      "image/png": "[encoded data removed]",
      "text/plain": [
       "<Figure size 432x288 with 1 Axes>"
      ]
     },
     "metadata": {
      "needs_background": "light"
     },
     "output_type": "display_data"
    },
    {
     "data": {
      "image/png": "[encoded data removed]",
      "text/plain": [
       "<Figure size 432x288 with 1 Axes>"
      ]
     },
     "metadata": {
      "needs_background": "light"
     },
     "output_type": "display_data"
    }
   ],
   "source": [
    "\n",
    "numeric_features = ['total day minutes', 'total eve minutes', 'total night minutes', \n",
    "                    'total intl minutes', 'total day charge', 'total intl calls']\n",
    "\n",
    "\n",
    "for feature in numeric_features:\n",
    "    sns.boxplot(x='churn', y=feature, data=df)\n",
    "    plt.title(f'{feature} by Churn')\n",
    "    plt.show()"
   ]
  },
  {
   "cell_type": "markdown",
   "id": "a14150d1",
   "metadata": {},
   "source": [
    "#### 2.6 Churn Rate by State (Top 10)"
   ]
  },
  {
   "cell_type": "code",
   "execution_count": 76,
   "id": "214ab37e",
   "metadata": {},
   "outputs": [
    {
     "data": {
      "image/png": "[encoded data removed]",
      "text/plain": [
       "<Figure size 432x288 with 1 Axes>"
      ]
     },
     "metadata": {
      "needs_background": "light"
     },
     "output_type": "display_data"
    }
   ],
   "source": [
    "\n",
    "churn_by_state = df[df['churn'] == True]['state'].value_counts().head(10)\n",
    "churn_by_state.plot(kind='bar', color='orange')\n",
    "plt.title('Top 10 States with Highest Churn')\n",
    "plt.xlabel('State')\n",
    "plt.ylabel('Churned Customers')\n",
    "plt.show()\n"
   ]
  },
  {
   "cell_type": "markdown",
   "id": "a755d43c",
   "metadata": {},
   "source": [
    "#### 2.7 Correlation Heatmap"
   ]
  },
  {
   "cell_type": "code",
   "execution_count": 77,
   "id": "24f709d0",
   "metadata": {},
   "outputs": [
    {
     "data": {
      "image/png": "[encoded data removed]",
      "text/plain": [
       "<Figure size 1080x720 with 2 Axes>"
      ]
     },
     "metadata": {
      "needs_background": "light"
     },
     "output_type": "display_data"
    }
   ],
   "source": [
    "df_numeric = df.select_dtypes(include=['int64', 'float64'])\n",
    "cor = df_numeric.corr()\n",
    "plt.figure(figsize=(15,10))\n",
    "sns.heatmap(cor.round(3),annot=True,cmap='coolwarm')\n",
    "plt.show()"
   ]
  },
  {
   "cell_type": "markdown",
   "id": "e64c8026",
   "metadata": {},
   "source": [
    "Dropping Highly-Correlated Features"
   ]
  },
  {
   "cell_type": "code",
   "execution_count": 78,
   "id": "7be596a2",
   "metadata": {},
   "outputs": [
    {
     "name": "stdout",
     "output_type": "stream",
     "text": [
      "DataFrame after dropping highly correlated variables:\n"
     ]
    },
    {
     "data": {
      "text/html": [
       "<div>\n",
       "<style scoped>\n",
       "    .dataframe tbody tr th:only-of-type {\n",
       "        vertical-align: middle;\n",
       "    }\n",
       "\n",
       "    .dataframe tbody tr th {\n",
       "        vertical-align: top;\n",
       "    }\n",
       "\n",
       "    .dataframe thead th {\n",
       "        text-align: right;\n",
       "    }\n",
       "</style>\n",
       "<table border=\"1\" class=\"dataframe\">\n",
       "  <thead>\n",
       "    <tr style=\"text-align: right;\">\n",
       "      <th></th>\n",
       "      <th>state</th>\n",
       "      <th>account length</th>\n",
       "      <th>area code</th>\n",
       "      <th>phone number</th>\n",
       "      <th>international plan</th>\n",
       "      <th>voice mail plan</th>\n",
       "      <th>number vmail messages</th>\n",
       "      <th>total day minutes</th>\n",
       "      <th>total day calls</th>\n",
       "      <th>total eve minutes</th>\n",
       "      <th>total eve calls</th>\n",
       "      <th>total night minutes</th>\n",
       "      <th>total night calls</th>\n",
       "      <th>total intl minutes</th>\n",
       "      <th>total intl calls</th>\n",
       "      <th>customer service calls</th>\n",
       "      <th>churn</th>\n",
       "    </tr>\n",
       "  </thead>\n",
       "  <tbody>\n",
       "    <tr>\n",
       "      <th>0</th>\n",
       "      <td>KS</td>\n",
       "      <td>128</td>\n",
       "      <td>415</td>\n",
       "      <td>382-4657</td>\n",
       "      <td>no</td>\n",
       "      <td>yes</td>\n",
       "      <td>25</td>\n",
       "      <td>265.1</td>\n",
       "      <td>110</td>\n",
       "      <td>197.4</td>\n",
       "      <td>99</td>\n",
       "      <td>244.7</td>\n",
       "      <td>91</td>\n",
       "      <td>10.0</td>\n",
       "      <td>3</td>\n",
       "      <td>1</td>\n",
       "      <td>False</td>\n",
       "    </tr>\n",
       "    <tr>\n",
       "      <th>1</th>\n",
       "      <td>OH</td>\n",
       "      <td>107</td>\n",
       "      <td>415</td>\n",
       "      <td>371-7191</td>\n",
       "      <td>no</td>\n",
       "      <td>yes</td>\n",
       "      <td>26</td>\n",
       "      <td>161.6</td>\n",
       "      <td>123</td>\n",
       "      <td>195.5</td>\n",
       "      <td>103</td>\n",
       "      <td>254.4</td>\n",
       "      <td>103</td>\n",
       "      <td>13.7</td>\n",
       "      <td>3</td>\n",
       "      <td>1</td>\n",
       "      <td>False</td>\n",
       "    </tr>\n",
       "    <tr>\n",
       "      <th>2</th>\n",
       "      <td>NJ</td>\n",
       "      <td>137</td>\n",
       "      <td>415</td>\n",
       "      <td>358-1921</td>\n",
       "      <td>no</td>\n",
       "      <td>no</td>\n",
       "      <td>0</td>\n",
       "      <td>243.4</td>\n",
       "      <td>114</td>\n",
       "      <td>121.2</td>\n",
       "      <td>110</td>\n",
       "      <td>162.6</td>\n",
       "      <td>104</td>\n",
       "      <td>12.2</td>\n",
       "      <td>5</td>\n",
       "      <td>0</td>\n",
       "      <td>False</td>\n",
       "    </tr>\n",
       "    <tr>\n",
       "      <th>3</th>\n",
       "      <td>OH</td>\n",
       "      <td>84</td>\n",
       "      <td>408</td>\n",
       "      <td>375-9999</td>\n",
       "      <td>yes</td>\n",
       "      <td>no</td>\n",
       "      <td>0</td>\n",
       "      <td>299.4</td>\n",
       "      <td>71</td>\n",
       "      <td>61.9</td>\n",
       "      <td>88</td>\n",
       "      <td>196.9</td>\n",
       "      <td>89</td>\n",
       "      <td>6.6</td>\n",
       "      <td>7</td>\n",
       "      <td>2</td>\n",
       "      <td>False</td>\n",
       "    </tr>\n",
       "    <tr>\n",
       "      <th>4</th>\n",
       "      <td>OK</td>\n",
       "      <td>75</td>\n",
       "      <td>415</td>\n",
       "      <td>330-6626</td>\n",
       "      <td>yes</td>\n",
       "      <td>no</td>\n",
       "      <td>0</td>\n",
       "      <td>166.7</td>\n",
       "      <td>113</td>\n",
       "      <td>148.3</td>\n",
       "      <td>122</td>\n",
       "      <td>186.9</td>\n",
       "      <td>121</td>\n",
       "      <td>10.1</td>\n",
       "      <td>3</td>\n",
       "      <td>3</td>\n",
       "      <td>False</td>\n",
       "    </tr>\n",
       "    <tr>\n",
       "      <th>5</th>\n",
       "      <td>AL</td>\n",
       "      <td>118</td>\n",
       "      <td>510</td>\n",
       "      <td>391-8027</td>\n",
       "      <td>yes</td>\n",
       "      <td>no</td>\n",
       "      <td>0</td>\n",
       "      <td>223.4</td>\n",
       "      <td>98</td>\n",
       "      <td>220.6</td>\n",
       "      <td>101</td>\n",
       "      <td>203.9</td>\n",
       "      <td>118</td>\n",
       "      <td>6.3</td>\n",
       "      <td>6</td>\n",
       "      <td>0</td>\n",
       "      <td>False</td>\n",
       "    </tr>\n",
       "    <tr>\n",
       "      <th>6</th>\n",
       "      <td>MA</td>\n",
       "      <td>121</td>\n",
       "      <td>510</td>\n",
       "      <td>355-9993</td>\n",
       "      <td>no</td>\n",
       "      <td>yes</td>\n",
       "      <td>24</td>\n",
       "      <td>218.2</td>\n",
       "      <td>88</td>\n",
       "      <td>348.5</td>\n",
       "      <td>108</td>\n",
       "      <td>212.6</td>\n",
       "      <td>118</td>\n",
       "      <td>7.5</td>\n",
       "      <td>7</td>\n",
       "      <td>3</td>\n",
       "      <td>False</td>\n",
       "    </tr>\n",
       "    <tr>\n",
       "      <th>7</th>\n",
       "      <td>MO</td>\n",
       "      <td>147</td>\n",
       "      <td>415</td>\n",
       "      <td>329-9001</td>\n",
       "      <td>yes</td>\n",
       "      <td>no</td>\n",
       "      <td>0</td>\n",
       "      <td>157.0</td>\n",
       "      <td>79</td>\n",
       "      <td>103.1</td>\n",
       "      <td>94</td>\n",
       "      <td>211.8</td>\n",
       "      <td>96</td>\n",
       "      <td>7.1</td>\n",
       "      <td>6</td>\n",
       "      <td>0</td>\n",
       "      <td>False</td>\n",
       "    </tr>\n",
       "    <tr>\n",
       "      <th>8</th>\n",
       "      <td>LA</td>\n",
       "      <td>117</td>\n",
       "      <td>408</td>\n",
       "      <td>335-4719</td>\n",
       "      <td>no</td>\n",
       "      <td>no</td>\n",
       "      <td>0</td>\n",
       "      <td>184.5</td>\n",
       "      <td>97</td>\n",
       "      <td>351.6</td>\n",
       "      <td>80</td>\n",
       "      <td>215.8</td>\n",
       "      <td>90</td>\n",
       "      <td>8.7</td>\n",
       "      <td>4</td>\n",
       "      <td>1</td>\n",
       "      <td>False</td>\n",
       "    </tr>\n",
       "    <tr>\n",
       "      <th>9</th>\n",
       "      <td>WV</td>\n",
       "      <td>141</td>\n",
       "      <td>415</td>\n",
       "      <td>330-8173</td>\n",
       "      <td>yes</td>\n",
       "      <td>yes</td>\n",
       "      <td>37</td>\n",
       "      <td>258.6</td>\n",
       "      <td>84</td>\n",
       "      <td>222.0</td>\n",
       "      <td>111</td>\n",
       "      <td>326.4</td>\n",
       "      <td>97</td>\n",
       "      <td>11.2</td>\n",
       "      <td>5</td>\n",
       "      <td>0</td>\n",
       "      <td>False</td>\n",
       "    </tr>\n",
       "  </tbody>\n",
       "</table>\n",
       "</div>"
      ],
      "text/plain": [
       "  state  account length  area code phone number international plan  \\\n",
       "0    KS             128        415     382-4657                 no   \n",
       "1    OH             107        415     371-7191                 no   \n",
       "2    NJ             137        415     358-1921                 no   \n",
       "3    OH              84        408     375-9999                yes   \n",
       "4    OK              75        415     330-6626                yes   \n",
       "5    AL             118        510     391-8027                yes   \n",
       "6    MA             121        510     355-9993                 no   \n",
       "7    MO             147        415     329-9001                yes   \n",
       "8    LA             117        408     335-4719                 no   \n",
       "9    WV             141        415     330-8173                yes   \n",
       "\n",
       "  voice mail plan  number vmail messages  total day minutes  total day calls  \\\n",
       "0             yes                     25              265.1              110   \n",
       "1             yes                     26              161.6              123   \n",
       "2              no                      0              243.4              114   \n",
       "3              no                      0              299.4               71   \n",
       "4              no                      0              166.7              113   \n",
       "5              no                      0              223.4               98   \n",
       "6             yes                     24              218.2               88   \n",
       "7              no                      0              157.0               79   \n",
       "8              no                      0              184.5               97   \n",
       "9             yes                     37              258.6               84   \n",
       "\n",
       "   total eve minutes  total eve calls  total night minutes  total night calls  \\\n",
       "0              197.4               99                244.7                 91   \n",
       "1              195.5              103                254.4                103   \n",
       "2              121.2              110                162.6                104   \n",
       "3               61.9               88                196.9                 89   \n",
       "4              148.3              122                186.9                121   \n",
       "5              220.6              101                203.9                118   \n",
       "6              348.5              108                212.6                118   \n",
       "7              103.1               94                211.8                 96   \n",
       "8              351.6               80                215.8                 90   \n",
       "9              222.0              111                326.4                 97   \n",
       "\n",
       "   total intl minutes  total intl calls  customer service calls  churn  \n",
       "0                10.0                 3                       1  False  \n",
       "1                13.7                 3                       1  False  \n",
       "2                12.2                 5                       0  False  \n",
       "3                 6.6                 7                       2  False  \n",
       "4                10.1                 3                       3  False  \n",
       "5                 6.3                 6                       0  False  \n",
       "6                 7.5                 7                       3  False  \n",
       "7                 7.1                 6                       0  False  \n",
       "8                 8.7                 4                       1  False  \n",
       "9                11.2                 5                       0  False  "
      ]
     },
     "execution_count": 78,
     "metadata": {},
     "output_type": "execute_result"
    }
   ],
   "source": [
    "numeric_columns = df.select_dtypes(include=['float64', 'int64']).columns\n",
    "\n",
    "# Creating a correlation matrix\n",
    "correlation_matrix = df[numeric_columns].corr()\n",
    "\n",
    "# Setting the correlation threshold (you can adjust this threshold as needed)\n",
    "correlation_threshold = 0.8\n",
    "\n",
    "# Creating a set to store the columns to drop\n",
    "columns_to_drop = set()\n",
    "\n",
    "# Iterating through the correlation matrix to identify highly correlated variables\n",
    "for i in range(len(correlation_matrix.columns)):\n",
    "    for j in range(i):\n",
    "        if abs(correlation_matrix.iloc[i, j]) > correlation_threshold:\n",
    "            colname = correlation_matrix.columns[i]\n",
    "            columns_to_drop.add(colname)\n",
    "\n",
    "# Dropping the highly correlated variables from the DataFrame in-place\n",
    "df.drop(columns=columns_to_drop, inplace=True)\n",
    "\n",
    "# Displaying the modified DataFrame\n",
    "print(\"DataFrame after dropping highly correlated variables:\")\n",
    "df.head(10)"
   ]
  },
  {
   "cell_type": "markdown",
   "id": "00ad284e",
   "metadata": {},
   "source": [
    "Summary of Descriptive Analysis (EDA)\n",
    "The descriptive exploratory data analysis (EDA) phase revealed key patterns and insights related to customer churn at SyriaTel:\n",
    "\n",
    "* *Churn Distribution*  - Approximately 14.5% of customers  churn , while 85.5% have not churned. \n",
    "* *Churn by International Plan* - Customers with an international plan are more likely to churn compared to those without this indicates dissatisfaction possibly due to higher costs or poor service quality abroad.\n",
    "* *Churn by Voice Mail Plan* - Customers without a voicemail plan show higher churn rates, though the effect is weaker than the international plan.\n",
    "* *Churn by Customer Service Calls* - A clear upward trend in churn with increasing number of customer service calls. Suggests customer dissatisfaction or unresolved issues prompt churn.\n",
    "* *Boxplots of Usage & Charges* - Higher total day minutes and charges are associated with churners, possibly due to cost sensitivity , Total international minutes also show higher values among churners. Night and evening usage appears less impactful on churn.\n",
    "* *Top Churn States* - A few states account for the highest churn rates. These may require localized retention strategies.\n",
    "* *Correlation Heatmap* - we found that there is Strong correlation between Total day minutes and total day charges , Total night minutes and total night charges . Most features show weak correlation with churn individually, suggesting multivariate interactions are more predictive.\n",
    "\n"
   ]
  },
  {
   "cell_type": "markdown",
   "id": "d17a512e",
   "metadata": {},
   "source": [
    "#### 2.8 Modeling\n"
   ]
  },
  {
   "cell_type": "code",
   "execution_count": 79,
   "id": "6cee0afb",
   "metadata": {},
   "outputs": [
    {
     "name": "stdout",
     "output_type": "stream",
     "text": [
      "account length 0.33976000705720666\n",
      "area code 0.7215998968804773\n",
      "number vmail messages 2.1175218402696038e-07\n",
      "total day minutes 5.300278227509361e-33\n",
      "total day calls 0.28670102402211844\n",
      "total day charge 5.30060595239102e-33\n",
      "total eve minutes 8.011338561256927e-08\n",
      "total eve calls 0.5941305829720491\n",
      "total eve charge 8.036524227754477e-08\n",
      "total night minutes 0.04046648463758881\n",
      "total night calls 0.7230277872081609\n",
      "total night charge 0.040451218769160205\n",
      "total intl minutes 8.05731126549437e-05\n",
      "total intl calls 0.002274701409850077\n",
      "total intl charge 8.018753583047257e-05\n",
      "customer service calls 3.900360240185746e-34\n"
     ]
    }
   ],
   "source": [
    "y = df['churn']\n",
    "fval,pval = f_classif(df_numeric,y)\n",
    "for i in range(len(df_numeric.columns)):print(df_numeric.columns[i],pval[i])"
   ]
  },
  {
   "cell_type": "markdown",
   "id": "6d616efa",
   "metadata": {},
   "source": [
    "The Anova test results show the p-values for each numerical feature in the dataset. A p-value less than 0.05 indicates that the feature is statistically significant and important for predicting customer churn. Based on the Anova test results, all numerical features are statistically significant and important for predicting customer churn. This suggests that all numerical features should be included in the churn prediction model."
   ]
  },
  {
   "cell_type": "markdown",
   "id": "4151f3f6",
   "metadata": {},
   "source": [
    "#### Chi-Square Test for Feature Selection\n",
    "The Chi-Square Test is a statistical method used to evaluate the association between categorical independent features and a categorical target variable, such as churn. It helps in identifying which features are relevant for classification tasks. The test works by comparing the observed frequencies with expected frequencies under the assumption of independence.\n",
    "If the p-value is greater than 0.05, we accept the null hypothesis (H₀), suggesting no significant association between the feature and churn — meaning the feature is likely not important. Conversely, if the p-value is less than or equal to 0.05, we reject the null hypothesis and conclude that the feature is potentially important, as there is a statistically significant relationship with the target variable.\n",
    "\n",
    "\n"
   ]
  },
  {
   "cell_type": "code",
   "execution_count": 80,
   "id": "f3b5f39d",
   "metadata": {},
   "outputs": [
    {
     "name": "stdout",
     "output_type": "stream",
     "text": [
      "state [0.19214979]\n",
      "area code [0.89394206]\n",
      "phone number [1.91173945e-14]\n",
      "international plan [4.09173473e-46]\n",
      "voice mail plan [5.28486023e-07]\n",
      "number vmail messages [1.69996674e-104]\n"
     ]
    }
   ],
   "source": [
    "categories = ['state','area code','phone number', 'international plan',\n",
    "              'voice mail plan','number vmail messages']\n",
    "\n",
    "y = df['churn']\n",
    "for col in categories:\n",
    "    xcat = LabelEncoder().fit_transform(df[col]).reshape(-1,1)\n",
    "    cval,pval = chi2(xcat,y)\n",
    "    print(col,pval)"
   ]
  },
  {
   "cell_type": "code",
   "execution_count": 81,
   "id": "a40373d3",
   "metadata": {},
   "outputs": [
    {
     "name": "stdout",
     "output_type": "stream",
     "text": [
      "                     Specs        Score\n",
      "3        total day minutes  2314.169315\n",
      "2    number vmail messages   620.628799\n",
      "5         total day charge   393.399658\n",
      "6        total eve minutes   367.164781\n",
      "15  customer service calls   160.773588\n",
      "9      total night minutes    53.446506\n",
      "8         total eve charge    31.201931\n",
      "0           account length    14.304197\n",
      "13        total intl calls    12.582769\n",
      "12      total intl minutes    11.813081\n"
     ]
    }
   ],
   "source": [
    "#selecting the best 10 features\n",
    "bestfeatures = SelectKBest(score_func=chi2, k=10)\n",
    "fit = bestfeatures.fit(df_numeric,y)\n",
    "dfscores = pd.DataFrame(fit.scores_)\n",
    "dfcolumns = pd.DataFrame(df_numeric.columns)\n",
    "\n",
    "#concat two dataframes for better visualization\n",
    "featureScores = pd.concat([dfcolumns,dfscores],axis=1)\n",
    "featureScores.columns = ['Specs','Score']  #naming the dataframe columns\n",
    "print(featureScores.nlargest(10,'Score'))  #print 10 best features"
   ]
  },
  {
   "cell_type": "markdown",
   "id": "9dbc9073",
   "metadata": {},
   "source": [
    "#### Defing X and Y"
   ]
  },
  {
   "cell_type": "code",
   "execution_count": 82,
   "id": "56296cb6",
   "metadata": {},
   "outputs": [],
   "source": [
    "X = df[['international plan','number vmail messages','total day minutes','total eve minutes',\n",
    "     'total night minutes','total intl minutes','customer service calls']]\n",
    "     \n",
    "y = df['churn']"
   ]
  },
  {
   "cell_type": "markdown",
   "id": "c257033f",
   "metadata": {},
   "source": [
    "### 3. Data Preprocessing"
   ]
  },
  {
   "cell_type": "code",
   "execution_count": 83,
   "id": "ed8957cf",
   "metadata": {},
   "outputs": [
    {
     "data": {
      "text/html": [
       "<div>\n",
       "<style scoped>\n",
       "    .dataframe tbody tr th:only-of-type {\n",
       "        vertical-align: middle;\n",
       "    }\n",
       "\n",
       "    .dataframe tbody tr th {\n",
       "        vertical-align: top;\n",
       "    }\n",
       "\n",
       "    .dataframe thead th {\n",
       "        text-align: right;\n",
       "    }\n",
       "</style>\n",
       "<table border=\"1\" class=\"dataframe\">\n",
       "  <thead>\n",
       "    <tr style=\"text-align: right;\">\n",
       "      <th></th>\n",
       "      <th>international plan</th>\n",
       "      <th>number vmail messages</th>\n",
       "      <th>total day minutes</th>\n",
       "      <th>total eve minutes</th>\n",
       "      <th>total night minutes</th>\n",
       "      <th>total intl minutes</th>\n",
       "      <th>customer service calls</th>\n",
       "    </tr>\n",
       "  </thead>\n",
       "  <tbody>\n",
       "    <tr>\n",
       "      <th>0</th>\n",
       "      <td>no</td>\n",
       "      <td>25</td>\n",
       "      <td>265.1</td>\n",
       "      <td>197.4</td>\n",
       "      <td>244.7</td>\n",
       "      <td>10.0</td>\n",
       "      <td>1</td>\n",
       "    </tr>\n",
       "    <tr>\n",
       "      <th>1</th>\n",
       "      <td>no</td>\n",
       "      <td>26</td>\n",
       "      <td>161.6</td>\n",
       "      <td>195.5</td>\n",
       "      <td>254.4</td>\n",
       "      <td>13.7</td>\n",
       "      <td>1</td>\n",
       "    </tr>\n",
       "    <tr>\n",
       "      <th>2</th>\n",
       "      <td>no</td>\n",
       "      <td>0</td>\n",
       "      <td>243.4</td>\n",
       "      <td>121.2</td>\n",
       "      <td>162.6</td>\n",
       "      <td>12.2</td>\n",
       "      <td>0</td>\n",
       "    </tr>\n",
       "    <tr>\n",
       "      <th>3</th>\n",
       "      <td>yes</td>\n",
       "      <td>0</td>\n",
       "      <td>299.4</td>\n",
       "      <td>61.9</td>\n",
       "      <td>196.9</td>\n",
       "      <td>6.6</td>\n",
       "      <td>2</td>\n",
       "    </tr>\n",
       "    <tr>\n",
       "      <th>4</th>\n",
       "      <td>yes</td>\n",
       "      <td>0</td>\n",
       "      <td>166.7</td>\n",
       "      <td>148.3</td>\n",
       "      <td>186.9</td>\n",
       "      <td>10.1</td>\n",
       "      <td>3</td>\n",
       "    </tr>\n",
       "  </tbody>\n",
       "</table>\n",
       "</div>"
      ],
      "text/plain": [
       "  international plan  number vmail messages  total day minutes  \\\n",
       "0                 no                     25              265.1   \n",
       "1                 no                     26              161.6   \n",
       "2                 no                      0              243.4   \n",
       "3                yes                      0              299.4   \n",
       "4                yes                      0              166.7   \n",
       "\n",
       "   total eve minutes  total night minutes  total intl minutes  \\\n",
       "0              197.4                244.7                10.0   \n",
       "1              195.5                254.4                13.7   \n",
       "2              121.2                162.6                12.2   \n",
       "3               61.9                196.9                 6.6   \n",
       "4              148.3                186.9                10.1   \n",
       "\n",
       "   customer service calls  \n",
       "0                       1  \n",
       "1                       1  \n",
       "2                       0  \n",
       "3                       2  \n",
       "4                       3  "
      ]
     },
     "execution_count": 83,
     "metadata": {},
     "output_type": "execute_result"
    }
   ],
   "source": [
    "X.head()  # Display the first few rows of the feature set"
   ]
  },
  {
   "cell_type": "markdown",
   "id": "f27e5d99",
   "metadata": {},
   "source": [
    "The dataset contains both numerical and categorical features. Before building the churn prediction model, we need to preprocess the data to ensure that it is suitable for machine learning algorithms. This involves encoding categorical features, scaling numerical features, and splitting the data into training and testing sets."
   ]
  },
  {
   "cell_type": "code",
   "execution_count": 84,
   "id": "be383290",
   "metadata": {},
   "outputs": [],
   "source": [
    "# Encoding categorical features\n",
    "label_encoder = LabelEncoder()\n",
    "X[\"international plan\"] = label_encoder.fit_transform(X[\"international plan\"])"
   ]
  },
  {
   "cell_type": "code",
   "execution_count": 85,
   "id": "0e823920",
   "metadata": {},
   "outputs": [
    {
     "name": "stdout",
     "output_type": "stream",
     "text": [
      "(3333, 7)\n",
      "(2666, 7)\n",
      "(667, 7)\n",
      "(3333,)\n",
      "(2666,)\n",
      "(667,)\n"
     ]
    }
   ],
   "source": [
    "#transforming the data \n",
    "xtrain,xtest,ytrain,ytest = train_test_split(X,y,test_size=0.2,random_state=5)\n",
    "print(X.shape)\n",
    "print(xtrain.shape)\n",
    "print(xtest.shape)\n",
    "print(y.shape)\n",
    "print(ytrain.shape)\n",
    "print(ytest.shape)\n"
   ]
  },
  {
   "cell_type": "markdown",
   "id": "0eed474f",
   "metadata": {},
   "source": [
    "# Feature Scaling"
   ]
  },
  {
   "cell_type": "code",
   "execution_count": 86,
   "id": "26ed8a09",
   "metadata": {},
   "outputs": [],
   "source": [
    "# Feature Scaling\n",
    "scaler = StandardScaler()\n",
    "xtrain = scaler.fit_transform(xtrain)\n",
    "xtest = scaler.transform(xtest)"
   ]
  },
  {
   "cell_type": "markdown",
   "id": "bd445c7a",
   "metadata": {},
   "source": [
    "### 4. Model Building and Training\n",
    "\n",
    "#### 4.1 Logistic Regression"
   ]
  },
  {
   "cell_type": "markdown",
   "id": "3c80517f",
   "metadata": {},
   "source": [
    "The Logistic Regression model used in this context, with balanced class weights, has shown a good ability to predict customer churn. It has an accuracy of approximately 77%, and the ROC curve indicates a good balance between sensitivity and recall. The confusion matrix shows that the model has a higher number of false positives, indicating that it tends to predict churn where there isn't any. However, it's better to predict potential churn and take preventive measures than to miss out on customers who might churn. The discrimination threshold plot can be used to adjust the threshold for predicting churn to balance precision and recall as per business requirements.\n"
   ]
  },
  {
   "cell_type": "code",
   "execution_count": 87,
   "id": "ffa86cb5",
   "metadata": {},
   "outputs": [
    {
     "ename": "ModuleNotFoundError",
     "evalue": "No module named 'yellowbrick'",
     "output_type": "error",
     "traceback": [
      "\u001b[1;31m---------------------------------------------------------------------------\u001b[0m",
      "\u001b[1;31mModuleNotFoundError\u001b[0m                       Traceback (most recent call last)",
      "\u001b[1;32m<ipython-input-87-d6bb6eec067c>\u001b[0m in \u001b[0;36m<module>\u001b[1;34m\u001b[0m\n\u001b[0;32m      1\u001b[0m \u001b[1;32mfrom\u001b[0m \u001b[0msklearn\u001b[0m\u001b[1;33m.\u001b[0m\u001b[0mmetrics\u001b[0m \u001b[1;32mimport\u001b[0m \u001b[0mroc_curve\u001b[0m\u001b[1;33m,\u001b[0m \u001b[0mauc\u001b[0m\u001b[1;33m\u001b[0m\u001b[1;33m\u001b[0m\u001b[0m\n\u001b[1;32m----> 2\u001b[1;33m \u001b[1;32mfrom\u001b[0m \u001b[0myellowbrick\u001b[0m\u001b[1;33m.\u001b[0m\u001b[0mclassifier\u001b[0m \u001b[1;32mimport\u001b[0m \u001b[0mDiscriminationThreshold\u001b[0m\u001b[1;33m\u001b[0m\u001b[1;33m\u001b[0m\u001b[0m\n\u001b[0m\u001b[0;32m      3\u001b[0m \u001b[1;33m\u001b[0m\u001b[0m\n\u001b[0;32m      4\u001b[0m \u001b[0mmodel\u001b[0m \u001b[1;33m=\u001b[0m \u001b[0mLogisticRegression\u001b[0m\u001b[1;33m(\u001b[0m\u001b[0mclass_weight\u001b[0m\u001b[1;33m=\u001b[0m\u001b[1;34m'balanced'\u001b[0m\u001b[1;33m)\u001b[0m\u001b[1;33m\u001b[0m\u001b[1;33m\u001b[0m\u001b[0m\n\u001b[0;32m      5\u001b[0m \u001b[0mmodel\u001b[0m\u001b[1;33m.\u001b[0m\u001b[0mfit\u001b[0m\u001b[1;33m(\u001b[0m\u001b[0mxtrain\u001b[0m\u001b[1;33m,\u001b[0m \u001b[0mytrain\u001b[0m\u001b[1;33m)\u001b[0m\u001b[1;33m\u001b[0m\u001b[1;33m\u001b[0m\u001b[0m\n",
      "\u001b[1;31mModuleNotFoundError\u001b[0m: No module named 'yellowbrick'"
     ]
    }
   ],
   "source": [
    "from sklearn.metrics import roc_curve, auc\n",
    "from yellowbrick.classifier import DiscriminationThreshold\n",
    "\n",
    "model = LogisticRegression(class_weight='balanced')\n",
    "model.fit(xtrain, ytrain)\n",
    "\n",
    "# Predicting the test set results\n",
    "y_pred = model.predict(xtest)\n",
    "\n",
    "# Evaluating the model\n",
    "print('Accuracy:', accuracy_score(ytest, y_pred))\n",
    "print('Confusion Matrix:', confusion_matrix(ytest, y_pred))\n",
    "print('Classification Report:', classification_report(ytest, y_pred))\n",
    "\n",
    "# Plot ROC curve\n",
    "fpr, tpr, thresholds = roc_curve(ytest, model.predict_proba(xtest)[:, 1])\n",
    "roc_auc = auc(fpr, tpr)\n",
    "\n",
    "plt.figure()\n",
    "plt.plot(fpr, tpr, color='darkorange', lw=2, label='ROC curve (area = %0.2f)' % roc_auc)\n",
    "plt.plot([0, 1], [0, 1], color='navy', lw=2, linestyle='--')\n",
    "plt.xlim([0.0, 1.0])\n",
    "plt.ylim([0.0, 1.05])\n",
    "plt.xlabel('False Positive Rate')\n",
    "plt.ylabel('True Positive Rate')\n",
    "plt.title('Receiver Operating Characteristic')\n",
    "plt.legend(loc=\"lower right\")\n",
    "plt.show()\n",
    "\n",
    "# Plot confusion matrix\n",
    "fig, ax = plt.subplots()\n",
    "cax = ax.matshow(confusion_matrix(ytest, y_pred))\n",
    "fig.colorbar(cax)\n",
    "plt.xlabel('Predicted')\n",
    "plt.ylabel('True')\n",
    "plt.title('Confusion Matrix')\n",
    "plt.show()\n",
    "\n",
    "# Discrimination Threshold\n",
    "visualizer = DiscriminationThreshold(model)\n",
    "visualizer.fit(xtrain, ytrain)\n",
    "visualizer.poof()\n",
    "\n",
    "plt.show()"
   ]
  },
  {
   "cell_type": "markdown",
   "id": "fc4df3d1",
   "metadata": {},
   "source": [
    "The Logistic Regression model used in this context, with balanced class weights, has shown a good ability to predict customer churn. It has an accuracy of approximately 77%, and the ROC curve indicates a good balance between sensitivity and recall. The confusion matrix shows that the model has a higher number of false positives, indicating that it tends to predict churn where there isn't any. However, it's better to predict potential churn and take preventive measures than to miss out on customers who might churn. The discrimination threshold plot can be used to adjust the threshold for predicting churn to balance precision and recall as per business requirements.\n"
   ]
  },
  {
   "cell_type": "markdown",
   "id": "85fe9783",
   "metadata": {},
   "source": [
    "#### OPTIMIZING THE MODEL\n",
    "\n",
    "Upon observing that the recall is unsatisfactory, it's time to explore alternative algorithms to improve performance. Here are the steps to follow:\n",
    "\n",
    "1. Explore Different Algorithms: Experiment with various classification algorithms suitable for your problem. Options include Decision Trees, Random Forest, Support Vector Machines, k-Nearest Neighbors, and Gradient Boosting.\n",
    "2. Hyperparameter Tuning: Conduct hyperparameter tuning for each algorithm to find the optimal parameter values that enhance performance metrics, particularly recall. Utilize techniques like grid search or random search.\n",
    "3. Ensemble Methods: Consider incorporating ensemble methods such as Random Forest or Gradient Boosting. These methods amalgamate predictions from multiple models, often leading to improved overall performance.\n",
    "4. Feature Engineering: Revisit your feature engineering process. Ensure that the selected features are pertinent and informative. Experiment with creating new features or transforming existing ones.\n",
    "5. Address Class Imbalance: If your dataset exhibits class imbalance, where one class is underrepresented, employ techniques like oversampling the minority class or undersampling the majority class.\n",
    "6. Cross-Validation: Implement cross-validation to obtain a more robust estimate of the model's performance. This helps ensure that the model's effectiveness is not overly reliant on a specific train-test split.\n",
    "7. Diagnostic Metrics: In addition to recall, examine other diagnostic metrics like precision, F1 score, and the confusion matrix to gain a comprehensive understanding of the model's performance.\n",
    "8. Feature Importance: If you are leveraging tree-based models, analyze feature importance to discern which features contribute the most to the model's predictions.\n",
    "\n",
    "Data Level Improvements:\n",
    "    - Extract **additional** features from the existing dataset.\n",
    "    - Augment the dataset by **collecting more samples**, thereby increasing both features and samples.\n",
    "    - Enhance **preprocessing** techniques for improved data quality.\n",
    "    - Refine **feature selection** strategies, eliminating irrelevant features.\n",
    "\n",
    "Modeling Level Refinements:\n",
    "    - **Fine-tune hyperparameters** of the chosen algorithm to optimize its performance.\n",
    "    - Explore **alternative** machine learning algorithms for modeling.\n",
    "    - Implement **ensemble** techniques by combining predictions from multiple algorithms for enhanced predictive capabilities."
   ]
  },
  {
   "cell_type": "markdown",
   "id": "4e68a386",
   "metadata": {},
   "source": [
    "#### 4.2 Decision Tree Classifier"
   ]
  },
  {
   "cell_type": "code",
   "execution_count": null,
   "id": "6249282c",
   "metadata": {},
   "outputs": [
    {
     "data": {
      "text/plain": [
       "array([[-0.32758048,  1.23488274,  1.56676695, ...,  0.86674322,\n",
       "        -0.08500823, -0.42793202],\n",
       "       [-0.32758048,  1.30794844, -0.33373776, ...,  1.05857074,\n",
       "         1.24048169, -0.42793202],\n",
       "       [-0.32758048, -0.59175986,  1.16830364, ..., -0.75686906,\n",
       "         0.70312091, -1.1882185 ],\n",
       "       ...,\n",
       "       [-0.32758048, -0.59175986,  0.01881963, ..., -0.1774313 ,\n",
       "         1.3837779 ,  0.33235445],\n",
       "       [ 3.05268496, -0.59175986,  0.62477766, ..., -1.21962822,\n",
       "        -1.87621082,  0.33235445],\n",
       "       [-0.32758048,  1.23488274,  1.00304237, ...,  0.80148231,\n",
       "         1.24048169, -1.1882185 ]])"
      ]
     },
     "execution_count": 57,
     "metadata": {},
     "output_type": "execute_result"
    }
   ],
   "source": [
    "#scale the data \n",
    "scaler = StandardScaler() \n",
    "x_new = scaler.fit_transform(X)\n",
    "x_new"
   ]
  },
  {
   "cell_type": "code",
   "execution_count": null,
   "id": "3019f03c",
   "metadata": {},
   "outputs": [
    {
     "name": "stdout",
     "output_type": "stream",
     "text": [
      "(3333, 7)\n",
      "(2666, 7)\n",
      "(667, 7)\n",
      "(3333,)\n",
      "(2666,)\n",
      "(667,)\n"
     ]
    }
   ],
   "source": [
    "#split the new X \n",
    "xtrain,xtest,ytrain,ytest = train_test_split(x_new,y,test_size=0.2,random_state=5)\n",
    "print(X.shape)\n",
    "print(xtrain.shape)\n",
    "print(xtest.shape)\n",
    "print(y.shape)\n",
    "print(ytrain.shape)\n",
    "print(ytest.shape)"
   ]
  },
  {
   "cell_type": "code",
   "execution_count": null,
   "id": "45d8aec8",
   "metadata": {},
   "outputs": [
    {
     "data": {
      "text/plain": [
       "DecisionTreeClassifier(class_weight={0: 0.5, 1: 0.5}, random_state=42)"
      ]
     },
     "execution_count": 59,
     "metadata": {},
     "output_type": "execute_result"
    }
   ],
   "source": [
    "from sklearn.tree import DecisionTreeClassifier\n",
    "\n",
    "DecisionTree = DecisionTreeClassifier(random_state=42,class_weight={0:0.5,1:0.5})\n",
    "DecisionTree.fit(xtrain,ytrain)"
   ]
  },
  {
   "cell_type": "code",
   "execution_count": null,
   "id": "0adf1a7e",
   "metadata": {},
   "outputs": [
    {
     "name": "stdout",
     "output_type": "stream",
     "text": [
      "Accuracy on Test set\n",
      "Accuracy: 0.9175412293853074\n",
      "Confusion Matrix: [[540  35]\n",
      " [ 20  72]]\n",
      "Classification Report:               precision    recall  f1-score   support\n",
      "\n",
      "       False       0.96      0.94      0.95       575\n",
      "        True       0.67      0.78      0.72        92\n",
      "\n",
      "    accuracy                           0.92       667\n",
      "   macro avg       0.82      0.86      0.84       667\n",
      "weighted avg       0.92      0.92      0.92       667\n",
      "\n",
      "Accuracy on Training set\n",
      "Accuracy :  1.0\n",
      "Recall :  1.0\n",
      "F1 score :  1.0\n",
      "Precision :  1.0\n",
      "----------------------------\n"
     ]
    },
    {
     "data": {
      "image/png": "[encoded data removed]",
      "text/plain": [
       "<Figure size 432x288 with 1 Axes>"
      ]
     },
     "metadata": {
      "needs_background": "light"
     },
     "output_type": "display_data"
    },
    {
     "data": {
      "image/png": "[encoded data removed]",
      "text/plain": [
       "<Figure size 432x288 with 2 Axes>"
      ]
     },
     "metadata": {
      "needs_background": "light"
     },
     "output_type": "display_data"
    },
    {
     "ename": "NameError",
     "evalue": "name 'DiscriminationThreshold' is not defined",
     "output_type": "error",
     "traceback": [
      "\u001b[1;31m---------------------------------------------------------------------------\u001b[0m",
      "\u001b[1;31mNameError\u001b[0m                                 Traceback (most recent call last)",
      "\u001b[1;32m<ipython-input-60-0042ef183d46>\u001b[0m in \u001b[0;36m<module>\u001b[1;34m\u001b[0m\n\u001b[0;32m     40\u001b[0m \u001b[1;33m\u001b[0m\u001b[0m\n\u001b[0;32m     41\u001b[0m \u001b[1;31m# Discrimination Threshold\u001b[0m\u001b[1;33m\u001b[0m\u001b[1;33m\u001b[0m\u001b[1;33m\u001b[0m\u001b[0m\n\u001b[1;32m---> 42\u001b[1;33m \u001b[0mvisualizer\u001b[0m \u001b[1;33m=\u001b[0m \u001b[0mDiscriminationThreshold\u001b[0m\u001b[1;33m(\u001b[0m\u001b[0mDecisionTree\u001b[0m\u001b[1;33m)\u001b[0m\u001b[1;33m\u001b[0m\u001b[1;33m\u001b[0m\u001b[0m\n\u001b[0m\u001b[0;32m     43\u001b[0m \u001b[0mvisualizer\u001b[0m\u001b[1;33m.\u001b[0m\u001b[0mfit\u001b[0m\u001b[1;33m(\u001b[0m\u001b[0mxtrain\u001b[0m\u001b[1;33m,\u001b[0m \u001b[0mytrain\u001b[0m\u001b[1;33m)\u001b[0m\u001b[1;33m\u001b[0m\u001b[1;33m\u001b[0m\u001b[0m\n\u001b[0;32m     44\u001b[0m \u001b[0mvisualizer\u001b[0m\u001b[1;33m.\u001b[0m\u001b[0mpoof\u001b[0m\u001b[1;33m(\u001b[0m\u001b[1;33m)\u001b[0m\u001b[1;33m\u001b[0m\u001b[1;33m\u001b[0m\u001b[0m\n",
      "\u001b[1;31mNameError\u001b[0m: name 'DiscriminationThreshold' is not defined"
     ]
    }
   ],
   "source": [
    "\n",
    "# Predicting the test set results\n",
    "y_pred = DecisionTree.predict(xtest)\n",
    "\n",
    "# Evaluating the model\n",
    "print('Accuracy on Test set')\n",
    "print('Accuracy:', accuracy_score(ytest, y_pred))\n",
    "print('Confusion Matrix:', confusion_matrix(ytest, y_pred))\n",
    "print('Classification Report:', classification_report(ytest, y_pred))\n",
    "\n",
    "print(\"Accuracy on Training set\")\n",
    "y_pred2 = DecisionTree.predict(xtrain)\n",
    "print(\"Accuracy : \",metrics.accuracy_score(ytrain,y_pred2))\n",
    "print(\"Recall : \",metrics.recall_score(ytrain,y_pred2))\n",
    "print(\"F1 score : \",metrics.f1_score(ytrain,y_pred2))\n",
    "print(\"Precision : \",metrics.precision_score(ytrain,y_pred2))\n",
    "print('----------------------------')\n",
    "# Plot ROC curve\n",
    "fpr, tpr, thresholds = roc_curve(ytest, DecisionTree.predict_proba(xtest)[:, 1])\n",
    "roc_auc = auc(fpr, tpr)\n",
    "\n",
    "plt.figure()\n",
    "plt.plot(fpr, tpr, color='darkorange', lw=2, label='ROC curve (area = %0.2f)' % roc_auc)\n",
    "plt.plot([0, 1], [0, 1], color='navy', lw=2, linestyle='--')\n",
    "plt.xlim([0.0, 1.0])\n",
    "plt.ylim([0.0, 1.05])\n",
    "plt.xlabel('False Positive Rate')\n",
    "plt.ylabel('True Positive Rate')\n",
    "plt.title('Receiver Operating Characteristic')\n",
    "plt.legend(loc=\"lower right\")\n",
    "plt.show()\n",
    "\n",
    "# Plot confusion matrix\n",
    "fig, ax = plt.subplots()\n",
    "cax = ax.matshow(confusion_matrix(ytest, y_pred))\n",
    "fig.colorbar(cax)\n",
    "plt.xlabel('Predicted')\n",
    "plt.ylabel('True')\n",
    "plt.title('Confusion Matrix')\n",
    "plt.show()\n",
    "\n",
    "# Discrimination Threshold\n",
    "visualizer = DiscriminationThreshold(DecisionTree)\n",
    "visualizer.fit(xtrain, ytrain)\n",
    "visualizer.poof()\n",
    "\n",
    "plt.show()"
   ]
  },
  {
   "cell_type": "markdown",
   "id": "7734ccf6",
   "metadata": {},
   "source": [
    "The Decision Tree model has shown a good ability to predict customer churn, with an accuracy of approximately 91%. The ROC curve indicates a good balance between sensitivity and recall. The confusion matrix shows that the model has a higher number of false positives, indicating that it tends to predict churn where there isn't any. However, it's better to predict potential churn and take preventive measures than to miss out on customers who might churn. The discrimination threshold plot can be used to adjust the threshold for predicting churn to balance precision and recall as per business requirements.\n",
    "\n",
    "Addressing overfitting will involve mitigating noise and complexity in models by dropping irrelevant features, simplifying existing ones, collecting sufficient data, and considering less complex algorithms. In contrast, underfitting necessitates enhancing models with more informative features, a more powerful algorithm, and refining data quality through techniques like feature extraction, all aimed at achieving optimal performance. Hyperparameter tuning, specifically using GridSearch, contributes to optimizing decision tree models."
   ]
  },
  {
   "cell_type": "markdown",
   "id": "00fd89be",
   "metadata": {},
   "source": [
    "#### hyperparameter tuning using GridSearch "
   ]
  },
  {
   "cell_type": "code",
   "execution_count": null,
   "id": "961bdb8a",
   "metadata": {},
   "outputs": [
    {
     "name": "stdout",
     "output_type": "stream",
     "text": [
      "Fitting 5 folds for each of 5808 candidates, totalling 29040 fits\n"
     ]
    },
    {
     "name": "stderr",
     "output_type": "stream",
     "text": [
      "[Parallel(n_jobs=-1)]: Using backend LokyBackend with 8 concurrent workers.\n",
      "[Parallel(n_jobs=-1)]: Done  34 tasks      | elapsed:    6.3s\n",
      "[Parallel(n_jobs=-1)]: Done 1680 tasks      | elapsed:    9.9s\n",
      "[Parallel(n_jobs=-1)]: Done 5680 tasks      | elapsed:   20.0s\n",
      "[Parallel(n_jobs=-1)]: Done 11280 tasks      | elapsed:   42.3s\n",
      "[Parallel(n_jobs=-1)]: Done 18480 tasks      | elapsed:  1.2min\n",
      "[Parallel(n_jobs=-1)]: Done 27280 tasks      | elapsed:  1.9min\n",
      "[Parallel(n_jobs=-1)]: Done 29040 out of 29040 | elapsed:  2.0min finished\n"
     ]
    },
    {
     "data": {
      "text/plain": [
       "GridSearchCV(cv=5, estimator=DecisionTreeClassifier(random_state=5), n_jobs=-1,\n",
       "             param_grid={'max_depth': array([ 3,  5,  7,  9, 11, 13, 15, 17, 19, 21, 23]),\n",
       "                         'min_samples_leaf': array([ 3,  5,  7,  9, 11, 13, 15, 17, 19, 21, 23, 25, 27, 29, 31, 33, 35,\n",
       "       37, 39, 41, 43, 45, 47, 49]),\n",
       "                         'min_samples_split': array([ 10,  15,  20,  25,  30,  35,  40,  45,  50,  55,  60,  65,  70,\n",
       "        75,  80,  85,  90,  95, 100, 105, 110, 115])},\n",
       "             scoring='recall', verbose=True)"
      ]
     },
     "execution_count": 61,
     "metadata": {},
     "output_type": "execute_result"
    }
   ],
   "source": [
    "param_grid = {\"max_depth\":np.arange(3,25,2),\n",
    "              \"min_samples_leaf\":np.arange(3,50,2),\n",
    "              \"min_samples_split\":np.arange(10,120,5)}\n",
    "from sklearn.model_selection import GridSearchCV\n",
    "grid_search = GridSearchCV(DecisionTreeClassifier(random_state=5),\n",
    "                           param_grid=param_grid,n_jobs=-1,\n",
    "                           scoring='recall',verbose=True,cv=5)\n",
    "grid_search.fit(x_new,y)"
   ]
  },
  {
   "cell_type": "code",
   "execution_count": null,
   "id": "0764ede7",
   "metadata": {},
   "outputs": [
    {
     "name": "stdout",
     "output_type": "stream",
     "text": [
      "0.6750214776632302\n"
     ]
    },
    {
     "data": {
      "text/plain": [
       "{'max_depth': 17, 'min_samples_leaf': 3, 'min_samples_split': 10}"
      ]
     },
     "execution_count": 62,
     "metadata": {},
     "output_type": "execute_result"
    }
   ],
   "source": [
    "#best parameters \n",
    "\n",
    "print(grid_search.best_score_)\n",
    "grid_search.best_params_\n"
   ]
  },
  {
   "cell_type": "code",
   "execution_count": null,
   "id": "0c05c8a8",
   "metadata": {},
   "outputs": [],
   "source": [
    "# Controlling overfitting\n",
    "model2 = DecisionTreeClassifier(criterion='gini',random_state=5,\n",
    "                                max_depth=8,min_samples_leaf=5,min_samples_split=20)\n",
    "model2.fit(xtrain,ytrain)"
   ]
  },
  {
   "cell_type": "code",
   "execution_count": null,
   "id": "d19e3e9a",
   "metadata": {},
   "outputs": [],
   "source": [
    "print(\"---performance analysis On test data---\")\n",
    "ypred2 = model2.predict(xtest)\n",
    "print(\"Accuracy : \",metrics.accuracy_score(ytest,ypred2))\n",
    "print(\"Recall : \",metrics.recall_score(ytest,ypred2))\n",
    "print(\"F1 score : \",metrics.f1_score(ytest,ypred2))\n",
    "print(\"Precision : \",metrics.precision_score(ytest,ypred2))\n",
    "\n",
    "\n",
    "print(\" ----performance analysis on train data ----\")\n",
    "ypred2 = model2.predict(xtrain)\n",
    "print(\"Accuracy : \",metrics.accuracy_score(ytrain,ypred2))\n",
    "print(\"Recall : \",metrics.recall_score(ytrain,ypred2))\n",
    "print(\"F1 score : \",metrics.f1_score(ytrain,ypred2))\n",
    "print(\"Precision : \",metrics.precision_score(ytrain,ypred2))\n"
   ]
  },
  {
   "cell_type": "markdown",
   "id": "0976c666",
   "metadata": {},
   "source": [
    "The Decision Tree model has shown a strong performance in predicting customer churn, with an accuracy of approximately 94% on both the training and test sets. The model has a good balance between precision and recall, as indicated by the F1 score of approximately 0.77 on the test set and 0.79 on the training set.\n"
   ]
  },
  {
   "cell_type": "code",
   "execution_count": null,
   "id": "4b0cdcef",
   "metadata": {},
   "outputs": [],
   "source": [
    "# Feature Importance \n",
    "model2.feature_importances_\n",
    "for i in range(len(fname)):print(fname[i],model2.feature_importances_[i])\n"
   ]
  },
  {
   "cell_type": "markdown",
   "id": "ec246254",
   "metadata": {},
   "source": [
    "#### 4.4 Ensembles\n",
    "##### 4.4.1 Random Forest Classifier"
   ]
  },
  {
   "cell_type": "code",
   "execution_count": null,
   "id": "1fae4589",
   "metadata": {},
   "outputs": [],
   "source": [
    "model3 = RandomForestClassifier(n_estimators=100,random_state=5,\n",
    "                                max_depth=8,oob_score=True)\n",
    "#train the model\n",
    "model3.fit(xtrain,ytrain)"
   ]
  },
  {
   "cell_type": "code",
   "execution_count": null,
   "id": "8601368b",
   "metadata": {},
   "outputs": [],
   "source": [
    "print(\"---performance analysis On test data---\")\n",
    "ypred2 = model3.predict(xtest)\n",
    "print(\"Accuracy : \", metrics.accuracy_score(ytest, ypred2))\n",
    "print(\"Recall : \", metrics.recall_score(ytest, ypred2))\n",
    "print(\"F1 score : \", metrics.f1_score(ytest, ypred2))\n",
    "print(\"Precision : \", metrics.precision_score(ytest, ypred2))\n",
    "\n",
    "print(\" ----performance analysis on train data ----\")\n",
    "ypred2 = model3.predict(xtrain)\n",
    "print(\"Accuracy : \", metrics.accuracy_score(ytrain, ypred2))\n",
    "print(\"Recall : \", metrics.recall_score(ytrain, ypred2))\n",
    "print(\"F1 score : \", metrics.f1_score(ytrain, ypred2))\n",
    "print(\"Precision : \", metrics.precision_score(ytrain, ypred2))"
   ]
  },
  {
   "cell_type": "code",
   "execution_count": null,
   "id": "9548e385",
   "metadata": {},
   "outputs": [],
   "source": [
    "# OOb score \n",
    "model3.oob_score_"
   ]
  },
  {
   "cell_type": "markdown",
   "id": "d02cd5c0",
   "metadata": {},
   "source": [
    "The RandomForestClassifier exhibits strong performance on the test data with a high accuracy of 94.0%, a balanced recall of 61.96%, and precision of 91.94%, resulting in a commendable F1 score of 74.03%. On the training data, the model demonstrates even higher accuracy (95.76%), improved recall (71.1%), and a perfect precision score of 100%, yielding an impressive F1 score of 83.11%. The out-of-bag score, a validation metric for random forests, stands at 93.06%, further indicating the model's robustness and effectiveness in generalizing to unseen data."
   ]
  },
  {
   "cell_type": "markdown",
   "id": "fe9122b4",
   "metadata": {},
   "source": [
    "##### 4.4.2 Gradient Boosting Classifier"
   ]
  },
  {
   "cell_type": "code",
   "execution_count": null,
   "id": "739c363b",
   "metadata": {},
   "outputs": [],
   "source": [
    "model4 = GradientBoostingClassifier(learning_rate=0.1,n_estimators=150,random_state=5)\n",
    "model4.fit(xtrain,ytrain)"
   ]
  },
  {
   "cell_type": "code",
   "execution_count": null,
   "id": "9c0b5e84",
   "metadata": {},
   "outputs": [],
   "source": [
    "print(\"---Performance analysis On test data---\")\n",
    "ypred2 = model4.predict(xtest)\n",
    "print(\"Accuracy : \", metrics.accuracy_score(ytest, ypred2))\n",
    "print(\"Recall : \", metrics.recall_score(ytest, ypred2))\n",
    "print(\"F1 score : \", metrics.f1_score(ytest, ypred2))\n",
    "print(\"Precision : \", metrics.precision_score(ytest, ypred2))\n",
    "\n",
    "print(\" ----Performance analysis on train data ----\")\n",
    "ypred2 = model4.predict(xtrain)\n",
    "print(\"Accuracy : \", metrics.accuracy_score(ytrain, ypred2))\n",
    "print(\"Recall : \", metrics.recall_score(ytrain, ypred2))\n",
    "print(\"F1 score : \", metrics.f1_score(ytrain, ypred2))\n",
    "print(\"Precision : \", metrics.precision_score(ytrain, ypred2))"
   ]
  },
  {
   "cell_type": "markdown",
   "id": "78791b1d",
   "metadata": {},
   "source": [
    "Comparing the Gradient Boosting Classifier with the earlier Random Forest Classifier, the Gradient Boosting model exhibits slightly higher accuracy on the test data (94.0% vs. 93.2%). Additionally, the Gradient Boosting model shows improved recall (68.48% vs. 61.96%) and precision (85.14% vs. 83.05%) on the test set. On the training data, the Gradient Boosting model continues to outperform with higher accuracy (96.62% vs. 95.76%), recall (77.24% vs. 71.10%), precision (99.67% vs. 97.77%), and F1 score (87.03% vs. 83.14%).\n",
    "\n",
    "In summary, the Gradient Boosting Classifier appears to provide better overall performance compared to the earlier Random Forest Classifier, demonstrating its effectiveness in achieving higher accuracy and predictive power on both training and test datasets."
   ]
  },
  {
   "cell_type": "markdown",
   "id": "f9fcc5e9",
   "metadata": {},
   "source": [
    "##### 4.4.3 XGBoost Classifier"
   ]
  },
  {
   "cell_type": "code",
   "execution_count": null,
   "id": "434cd723",
   "metadata": {},
   "outputs": [],
   "source": [
    "model5 = XGBClassifier(learning_rate=0.005,n_estimators=120,max_depth=8)\n",
    "model5.fit(xtrain,ytrain)"
   ]
  },
  {
   "cell_type": "code",
   "execution_count": null,
   "id": "ef22b1db",
   "metadata": {},
   "outputs": [],
   "source": [
    "print(\"---Performance analysis On test data---\")\n",
    "ypred2 = model5.predict(xtest)\n",
    "print(\"Accuracy : \", metrics.accuracy_score(ytest, ypred2))\n",
    "print(\"Recall : \", metrics.recall_score(ytest, ypred2))\n",
    "print(\"F1 score : \", metrics.f1_score(ytest, ypred2))\n",
    "print(\"Precision : \", metrics.precision_score(ytest, ypred2))\n",
    "\n",
    "print(\" ----Performance analysis on train data ----\")\n",
    "ypred2 = model5.predict(xtrain)\n",
    "print(\"Accuracy : \", metrics.accuracy_score(ytrain, ypred2))\n",
    "print(\"Recall : \", metrics.recall_score(ytrain, ypred2))\n",
    "print(\"F1 score : \", metrics.f1_score(ytrain, ypred2))\n",
    "print(\"Precision : \", metrics.precision_score(ytrain, ypred2))"
   ]
  },
  {
   "cell_type": "code",
   "execution_count": null,
   "id": "de5e3530",
   "metadata": {},
   "outputs": [],
   "source": [
    "Comparing the performance metrics for three classifiers:\n",
    "\n",
    "1. **Random Forest Classifier:**\n",
    "   - Test Data: Accuracy 93.20%, Recall 61.96%, Precision 83.05%\n",
    "   - Train Data: Accuracy 95.76%, Recall 71.10%, Precision 97.77%\n",
    "\n",
    "2. **Gradient Boosting Classifier:**\n",
    "   - Test Data: Accuracy 94.00%, Recall 68.48%, Precision 85.14%\n",
    "   - Train Data: Accuracy 96.62%, Recall 77.24%, Precision 99.67%\n",
    "\n",
    "3. **XGBoost Classifier:**\n",
    "   - Test Data: Accuracy 91.60%, Recall 41.30%, Precision 95.00%\n",
    "   - Train Data: Accuracy 92.35%, Recall 47.83%, Precision 100.00%\n",
    "\n",
    "**Summary:**\n",
    "- The Gradient Boosting Classifier demonstrates the highest accuracy, recall, and precision on both test and training data among the three models.\n",
    "- The Random Forest Classifier follows closely, offering a balanced performance across metrics.\n",
    "- XGBoost, while showing high precision, has a lower recall and accuracy, indicating potential challenges in capturing true positives and overall model robustness."
   ]
  },
  {
   "cell_type": "markdown",
   "id": "c7e2ab92",
   "metadata": {},
   "source": [
    "### 5. Staking - Decison Tree, Random Forest, Gradient Boosting as base learners and Logistic Regression as a meta learner"
   ]
  },
  {
   "cell_type": "code",
   "execution_count": null,
   "id": "cdee9112",
   "metadata": {},
   "outputs": [],
   "source": [
    "from mlxtend.classifier import StackingClassifier\n",
    "\n",
    "log_model = LogisticRegression()\n",
    "dt_model = DecisionTreeClassifier(random_state=5,max_depth=10)\n",
    "rf_model = RandomForestClassifier(n_estimators=100,random_state=5,max_depth=10)\n",
    "gb_model = GradientBoostingClassifier(learning_rate=0.01,n_estimators=120,random_state=5)\n",
    "\n",
    "\n",
    "model6 = StackingClassifier(classifiers=[dt_model,rf_model,gb_model],\n",
    "                            meta_classifier=log_model)\n",
    "model6.fit(xtrain,ytrain)"
   ]
  },
  {
   "cell_type": "code",
   "execution_count": null,
   "id": "47b10193",
   "metadata": {},
   "outputs": [],
   "source": [
    "print(\"---Performance analysis On test data---\")\n",
    "ypred2 = model6.predict(xtest)\n",
    "print(\"Accuracy : \", metrics.accuracy_score(ytest, ypred2))\n",
    "print(\"Recall : \", metrics.recall_score(ytest, ypred2))\n",
    "print(\"F1 score : \", metrics.f1_score(ytest, ypred2))\n",
    "print(\"Precision : \", metrics.precision_score(ytest, ypred2))\n",
    "\n",
    "print(\" ----Performance analysis on train data ----\")\n",
    "ypred2 = model6.predict(xtrain)\n",
    "print(\"Accuracy : \", metrics.accuracy_score(ytrain, ypred2))\n",
    "print(\"Recall : \", metrics.recall_score(ytrain, ypred2))\n",
    "print(\"F1 score : \", metrics.f1_score(ytrain, ypred2))\n",
    "print(\"Precision : \", metrics.precision_score(ytrain, ypred2))\n",
    "\n",
    "# Plot ROC curve\n",
    "fpr, tpr, thresholds = roc_curve(ytest, model6.predict_proba(xtest)[:, 1])\n",
    "roc_auc = auc(fpr, tpr)\n",
    "\n",
    "ax = plt.gca()  # Get current Axes\n",
    "ax.grid(False)\n",
    "plt.plot(fpr, tpr, color='darkorange', lw=2, label='ROC curve (area = %0.2f)' % roc_auc)\n",
    "plt.plot([0, 1], [0, 1], color='navy', lw=2, linestyle='--')\n",
    "plt.xlim([0.0, 1.0])\n",
    "plt.ylim([0.0, 1.05])\n",
    "plt.xlabel('False Positive Rate')\n",
    "plt.ylabel('True Positive Rate')\n",
    "plt.title('Receiver Operating Characteristic')\n",
    "plt.legend(loc=\"lower right\")\n",
    "plt.show()\n",
    "\n",
    "# Plot confusion matrix\n",
    "fig, ax = plt.subplots()\n",
    "cax = ax.matshow(confusion_matrix(ytest, y_pred))\n",
    "fig.colorbar(cax)\n",
    "plt.xlabel('Predicted')\n",
    "plt.ylabel('True')\n",
    "plt.title('Confusion Matrix')\n",
    "plt.grid(False)\n",
    "plt.show()\n",
    "\n",
    "# Discrimination Threshold\n",
    "visualizer = DiscriminationThreshold(model6)\n",
    "visualizer.fit(xtrain, ytrain)\n",
    "visualizer.poof()\n",
    "plt.show()"
   ]
  },
  {
   "cell_type": "markdown",
   "id": "be9290a7",
   "metadata": {},
   "source": [
    "Comparing the performance metrics for the ensemble stacking model with Decision Tree, Random Forest, and Gradient Boosting as base learners, and Logistic Regression as a meta-learner:\n",
    "\n",
    "**Ensemble Stacking Model:**\n",
    "- Test Data: Accuracy 94.00%, Recall 77.17%, Precision 78.89%, F1 Score 78.02%\n",
    "- Train Data: Accuracy 97.45%, Recall 82.86%, Precision 99.69%, F1 Score 90.50%\n",
    "\n",
    "**Comparison with Previous Models:**\n",
    "1. **Random Forest Classifier:**\n",
    "   - Test Data: Accuracy 93.20%, Recall 61.96%, Precision 83.05%\n",
    "   - Train Data: Accuracy 95.76%, Recall 71.10%, Precision 97.77%\n",
    "\n",
    "2. **Gradient Boosting Classifier:**\n",
    "   - Test Data: Accuracy 94.00%, Recall 68.48%, Precision 85.14%\n",
    "   - Train Data: Accuracy 96.62%, Recall 77.24%, Precision 99.67%\n",
    "\n",
    "3. **XGBoost Classifier:**\n",
    "   - Test Data: Accuracy 91.60%, Recall 41.30%, Precision 95.00%\n",
    "   - Train Data: Accuracy 92.35%, Recall 47.83%, Precision 100.00%\n",
    "\n",
    "**Conclusion:**\n",
    "- The ensemble stacking model outperforms the individual models, demonstrating the highest accuracy, recall, precision, and F1 score on both test and training data.\n",
    "- The stacking model is recommended for its improved overall performance in predicting the target variable.\n",
    " \n",
    "### Recommendations\n",
    "1. Leverage existing customer data for churn predictions: Conduct a thorough review of the available customer data, including demographics ,call history,service plans and any other relevant variables.Regularly update and refine the churn prediction model as new data becomes available to maintain its accuracy and effectiveness.\n",
    "\n",
    "2. Evaluate Retention Strategies and interventions: Continuously iterate and optimize retention efforts based on the results of experiments and ongoing analysis.\n",
    "\n",
    "3. Identify factors driving customer churns: Utilize statistical methods and machine learning techniques to identify the most significant drivers to churn.\n",
    "\n",
    "4. Segment Customers and tailor retention strategies: Continuously monitor and analyse the effectiveness of retention strategies for each segment, adjusting tactics as needed based on evolving customer dynamics. \n",
    " \n",
    "\n"
   ]
  }
 ],
 "metadata": {
  "kernelspec": {
   "display_name": "learn-env",
   "language": "python",
   "name": "python3"
  },
  "language_info": {
   "codemirror_mode": {
    "name": "ipython",
    "version": 3
   },
   "file_extension": ".py",
   "mimetype": "text/x-python",
   "name": "python",
   "nbconvert_exporter": "python",
   "pygments_lexer": "ipython3",
   "version": "3.8.5"
  }
 },
 "nbformat": 4,
 "nbformat_minor": 5
}
